{
  "cells": [
    {
      "cell_type": "markdown",
      "metadata": {
        "id": "view-in-github",
        "colab_type": "text"
      },
      "source": [
        "<a href=\"https://colab.research.google.com/github/Shahid-coder/Data-science-python/blob/main/python/python_variables_and_data_types.ipynb\" target=\"_parent\"><img src=\"https://colab.research.google.com/assets/colab-badge.svg\" alt=\"Open In Colab\"/></a>"
      ]
    },
    {
      "cell_type": "markdown",
      "metadata": {
        "id": "88R6JGlEd23p"
      },
      "source": [
        "# A Quick Tour of Variables and Data Types in Python\n",
        "\n",
        "![](https://i.imgur.com/6cg2E9Q.png)\n",
        "\n",
        "### Part 2 of \"Data Analysis with Python: Zero to Pandas\"\n",
        "\n",
        "\n",
        "This tutorial series is a beginner-friendly introduction to programming and data analysis using the Python programming language. These tutorials take a practical and coding-focused approach. The best way to learn the material is to execute the code and experiment with it yourself. Check out the full series here: \n",
        "\n",
        "1. [First Steps with Python and Jupyter](https://jovian.ai/aakashns/first-steps-with-python)\n",
        "2. [A Quick Tour of Variables and Data Types](https://jovian.ai/aakashns/python-variables-and-data-types)\n",
        "3. [Branching using Conditional Statements and Loops](https://jovian.ai/aakashns/python-branching-and-loops)\n",
        "4. [Writing Reusable Code Using Functions](https://jovian.ai/aakashns/python-functions-and-scope)\n",
        "5. [Reading from and Writing to Files](https://jovian.ai/aakashns/python-os-and-filesystem)\n",
        "6. [Numerical Computing with Python and Numpy](https://jovian.ai/aakashns/python-numerical-computing-with-numpy)\n",
        "7. [Analyzing Tabular Data using Pandas](https://jovian.ai/aakashns/python-pandas-data-analysis)\n",
        "8. [Data Visualization using Matplotlib & Seaborn](https://jovian.ai/aakashns/python-matplotlib-data-visualization)\n",
        "9. [Exploratory Data Analysis - A Case Study](https://jovian.ai/aakashns/python-eda-stackoverflow-survey)\n",
        "\n"
      ]
    },
    {
      "cell_type": "markdown",
      "metadata": {
        "id": "wcEdOzQYd24G"
      },
      "source": [
        "This tutorial covers the following topics:\n",
        "\n",
        "- Storing information using variables\n",
        "- Primitive data types in Python: Integer, Float, Boolean, None and String\n",
        "- Built-in data structures in Python: List, Tuple and Dictionary\n",
        "- Methods and operators supported by built-in data types"
      ]
    },
    {
      "cell_type": "markdown",
      "metadata": {
        "id": "JLfx2iYZd24J"
      },
      "source": [
        "### How to run the code\n",
        "\n",
        "This tutorial is an executable [Jupyter notebook](https://jupyter.org) hosted on [Jovian](https://www.jovian.ai). You can _run_ this tutorial and experiment with the code examples in a couple of ways: *using free online resources* (recommended) or *on your computer*.\n",
        "\n",
        "#### Option 1: Running using free online resources (1-click, recommended)\n",
        "\n",
        "The easiest way to start executing the code is to click the **Run** button at the top of this page and select **Run on Binder**. You can also select \"Run on Colab\" or \"Run on Kaggle\", but you'll need to create an account on [Google Colab](https://colab.research.google.com) or [Kaggle](https://kaggle.com) to use these platforms.\n",
        "\n",
        "\n",
        "#### Option 2: Running on your computer locally\n",
        "\n",
        "To run the code on your computer locally, you'll need to set up [Python](https://www.python.org), download the notebook and install the required libraries. We recommend using the [Conda](https://docs.conda.io/projects/conda/en/latest/user-guide/install/) distribution of Python. Click the **Run** button at the top of this page, select the **Run Locally** option, and follow the instructions.\n",
        "\n",
        ">  **Jupyter Notebooks**: This tutorial is a [Jupyter notebook](https://jupyter.org) - a document made of _cells_. Each cell can contain code written in Python or explanations in plain English. You can execute code cells and view the results, e.g., numbers, messages, graphs, tables, files, etc. instantly within the notebook. Jupyter is a powerful platform for experimentation and analysis. Don't be afraid to mess around with the code & break things - you'll learn a lot by encountering and fixing errors. You can use the \"Kernel > Restart & Clear Output\" menu option to clear all outputs and start again from the top."
      ]
    },
    {
      "cell_type": "markdown",
      "metadata": {
        "id": "_adsudUFd24R"
      },
      "source": [
        "## Storing information using variables\n",
        "\n",
        "Computers are useful for two purposes: storing information (also known as data) and performing operations on stored data. While working with a programming language such as Python, data is stored in variables. You can think of variables are containers for storing data. The data stored within a variable is called its value. Creating variables in Python is pretty easy, as we've already seen in the [previous tutorial](https://jovian.ml/aakashns/first-steps-with-python/v/4#C15).\n",
        "\n"
      ]
    },
    {
      "cell_type": "code",
      "execution_count": null,
      "metadata": {
        "id": "wNkuaCT0d24T"
      },
      "outputs": [],
      "source": [
        "my_favorite_color = \"blue\""
      ]
    },
    {
      "cell_type": "code",
      "execution_count": null,
      "metadata": {
        "id": "ZsHq08xHd24a",
        "outputId": "9af6f485-78db-4351-ca1d-45cbb4d0bd32"
      },
      "outputs": [
        {
          "data": {
            "text/plain": [
              "'blue'"
            ]
          },
          "execution_count": 2,
          "metadata": {},
          "output_type": "execute_result"
        }
      ],
      "source": [
        "my_favorite_color"
      ]
    },
    {
      "cell_type": "markdown",
      "metadata": {
        "id": "hSWZbs2wd24f"
      },
      "source": [
        "A variable is created using an assignment statement. It begins with the variable's name, followed by the assignment operator `=` followed by the value to be stored within the variable.  Note that the assignment operator `=` is different from the equality comparison operator `==`.\n",
        "\n",
        "You can also assign values to multiple variables in a single statement by separating the variable names and values with commas."
      ]
    },
    {
      "cell_type": "code",
      "execution_count": null,
      "metadata": {
        "id": "kr5Y5mv3d24h"
      },
      "outputs": [],
      "source": [
        "color1, color2, color3 = \"red\", \"green\", \"blue\""
      ]
    },
    {
      "cell_type": "code",
      "execution_count": null,
      "metadata": {
        "id": "23Yf4zVTd24k",
        "outputId": "6b7333a9-61fe-46c5-dc50-db7ed8e1f058"
      },
      "outputs": [
        {
          "data": {
            "text/plain": [
              "'red'"
            ]
          },
          "execution_count": 4,
          "metadata": {},
          "output_type": "execute_result"
        }
      ],
      "source": [
        "color1"
      ]
    },
    {
      "cell_type": "code",
      "execution_count": null,
      "metadata": {
        "id": "CIGBNh0Sd24m",
        "outputId": "9beb11f1-fd09-4074-abb5-622077af8a52"
      },
      "outputs": [
        {
          "data": {
            "text/plain": [
              "'green'"
            ]
          },
          "execution_count": 5,
          "metadata": {},
          "output_type": "execute_result"
        }
      ],
      "source": [
        "color2"
      ]
    },
    {
      "cell_type": "code",
      "execution_count": null,
      "metadata": {
        "id": "rqwOiCkMd24p",
        "outputId": "69950d4c-ef09-4e7e-b1dd-a21e07deba69"
      },
      "outputs": [
        {
          "data": {
            "text/plain": [
              "'blue'"
            ]
          },
          "execution_count": 6,
          "metadata": {},
          "output_type": "execute_result"
        }
      ],
      "source": [
        "color3"
      ]
    },
    {
      "cell_type": "markdown",
      "metadata": {
        "id": "NwR4Lw1qd24r"
      },
      "source": [
        "You can assign the same value to multiple variables by chaining multiple assignment operations within a single statement."
      ]
    },
    {
      "cell_type": "code",
      "execution_count": null,
      "metadata": {
        "id": "dUnkPxAVd24t"
      },
      "outputs": [],
      "source": [
        "color4 = color5 = color6 = \"magenta\""
      ]
    },
    {
      "cell_type": "code",
      "execution_count": null,
      "metadata": {
        "id": "DPuxSv80d24u",
        "outputId": "df6bcf30-e4c9-4536-dbc9-7f82857fdb63"
      },
      "outputs": [
        {
          "data": {
            "text/plain": [
              "'magenta'"
            ]
          },
          "execution_count": 8,
          "metadata": {},
          "output_type": "execute_result"
        }
      ],
      "source": [
        "color4"
      ]
    },
    {
      "cell_type": "code",
      "execution_count": null,
      "metadata": {
        "id": "cR4CqAwqd24w",
        "outputId": "56f194d7-1685-4ab7-8b88-08ac43e09eb7"
      },
      "outputs": [
        {
          "data": {
            "text/plain": [
              "'magenta'"
            ]
          },
          "execution_count": 9,
          "metadata": {},
          "output_type": "execute_result"
        }
      ],
      "source": [
        "color5"
      ]
    },
    {
      "cell_type": "code",
      "execution_count": null,
      "metadata": {
        "id": "G72VZf4pd24y",
        "outputId": "c91d9a03-df1a-471d-abc4-4af96492501a"
      },
      "outputs": [
        {
          "data": {
            "text/plain": [
              "'magenta'"
            ]
          },
          "execution_count": 10,
          "metadata": {},
          "output_type": "execute_result"
        }
      ],
      "source": [
        "color6"
      ]
    },
    {
      "cell_type": "markdown",
      "metadata": {
        "id": "Wfn1mQMwd240"
      },
      "source": [
        "You can change the value stored within a variable by assigning a new value to it using another assignment statement. Be careful while reassigning variables: when you assign a new value to the variable, the old value is lost and no longer accessible."
      ]
    },
    {
      "cell_type": "code",
      "execution_count": null,
      "metadata": {
        "id": "lufRRXnnd242"
      },
      "outputs": [],
      "source": [
        "my_favorite_color = \"red\""
      ]
    },
    {
      "cell_type": "code",
      "execution_count": null,
      "metadata": {
        "id": "rqlBYOAnd244",
        "outputId": "7dd38751-a34f-47d0-a0e2-1cd3f5879d1c"
      },
      "outputs": [
        {
          "data": {
            "text/plain": [
              "'red'"
            ]
          },
          "execution_count": 12,
          "metadata": {},
          "output_type": "execute_result"
        }
      ],
      "source": [
        "my_favorite_color"
      ]
    },
    {
      "cell_type": "markdown",
      "metadata": {
        "id": "3RVy9j4sd245"
      },
      "source": [
        "While reassigning a variable, you can also use the variable's previous value to compute the new value."
      ]
    },
    {
      "cell_type": "code",
      "execution_count": null,
      "metadata": {
        "id": "JyFxZB8Vd247"
      },
      "outputs": [],
      "source": [
        "counter = 10"
      ]
    },
    {
      "cell_type": "code",
      "execution_count": null,
      "metadata": {
        "id": "c55xe206d249"
      },
      "outputs": [],
      "source": [
        "counter = counter + 1"
      ]
    },
    {
      "cell_type": "code",
      "execution_count": null,
      "metadata": {
        "id": "q8y9NK2sd24-",
        "outputId": "662dcb34-6939-4e2d-e087-26e019364591"
      },
      "outputs": [
        {
          "data": {
            "text/plain": [
              "11"
            ]
          },
          "execution_count": 15,
          "metadata": {},
          "output_type": "execute_result"
        }
      ],
      "source": [
        "counter"
      ]
    },
    {
      "cell_type": "markdown",
      "metadata": {
        "id": "f2EG7N5qd25A"
      },
      "source": [
        "The pattern `var = var op something` (where `op` is an arithmetic operator like `+`, `-`, `*`, `/`) is very common, so Python provides a *shorthand* syntax for it."
      ]
    },
    {
      "cell_type": "code",
      "execution_count": null,
      "metadata": {
        "id": "Z2kYSrrod25B"
      },
      "outputs": [],
      "source": [
        "counter = 10"
      ]
    },
    {
      "cell_type": "code",
      "execution_count": null,
      "metadata": {
        "id": "H8EsEx6vd25D"
      },
      "outputs": [],
      "source": [
        "# Same as `counter = counter + 4`\n",
        "counter += 4"
      ]
    },
    {
      "cell_type": "code",
      "execution_count": null,
      "metadata": {
        "id": "ZyUyQs8cd25F",
        "outputId": "16cac8ad-d44c-4f86-d1bd-b2ebb884fa90"
      },
      "outputs": [
        {
          "data": {
            "text/plain": [
              "14"
            ]
          },
          "execution_count": 18,
          "metadata": {},
          "output_type": "execute_result"
        }
      ],
      "source": [
        "counter"
      ]
    },
    {
      "cell_type": "markdown",
      "metadata": {
        "id": "2dpOVII5d25H"
      },
      "source": [
        "Variable names can be short (`a`, `x`, `y`, etc.) or descriptive ( `my_favorite_color`, `profit_margin`, `the_3_musketeers`, etc.). However, you must follow these rules while naming Python variables:\n",
        "\n",
        "* A variable's name must start with a letter or the underscore character `_`. It cannot begin with a number.\n",
        "* A variable name can only contain lowercase (small) or uppercase (capital) letters, digits, or underscores (`a`-`z`, `A`-`Z`, `0`-`9`, and `_`).\n",
        "* Variable names are case-sensitive, i.e., `a_variable`, `A_Variable`, and `A_VARIABLE` are all different variables.\n",
        "\n",
        "Here are some valid variable names:"
      ]
    },
    {
      "cell_type": "code",
      "execution_count": null,
      "metadata": {
        "id": "tndesg5ad25I"
      },
      "outputs": [],
      "source": [
        "a_variable = 23\n",
        "is_today_Saturday = False\n",
        "my_favorite_car = \"Delorean\"\n",
        "the_3_musketeers = [\"Athos\", \"Porthos\", \"Aramis\"] "
      ]
    },
    {
      "cell_type": "markdown",
      "metadata": {
        "id": "dPTXPeSud25K"
      },
      "source": [
        "Let's try creating some variables with invalid names. Python prints a syntax error if your variable's name is invalid.\n",
        "\n",
        "> **Syntax**: The syntax of a programming language refers to the rules that govern the structure of a valid instruction or *statement*. If a statement does not follow these rules, Python stops execution and informs you that there is a *syntax error*. You can think of syntax as the rules of grammar for a programming language."
      ]
    },
    {
      "cell_type": "code",
      "execution_count": null,
      "metadata": {
        "id": "9GUvacOSd25M",
        "outputId": "7b94aaa5-ea2f-4ad0-e66e-4292725e7701"
      },
      "outputs": [
        {
          "ename": "SyntaxError",
          "evalue": "invalid syntax (<ipython-input-20-b4f9daa715a5>, line 1)",
          "output_type": "error",
          "traceback": [
            "\u001b[0;36m  File \u001b[0;32m\"<ipython-input-20-b4f9daa715a5>\"\u001b[0;36m, line \u001b[0;32m1\u001b[0m\n\u001b[0;31m    a variable = 23\u001b[0m\n\u001b[0m      ^\u001b[0m\n\u001b[0;31mSyntaxError\u001b[0m\u001b[0;31m:\u001b[0m invalid syntax\n"
          ]
        }
      ],
      "source": [
        "a variable = 23"
      ]
    },
    {
      "cell_type": "code",
      "execution_count": null,
      "metadata": {
        "id": "DagrfoCDd25N",
        "outputId": "3835212a-9d1c-45f8-cbb4-24d6fcba8dac"
      },
      "outputs": [
        {
          "ename": "SyntaxError",
          "evalue": "invalid syntax (<ipython-input-21-3785425ca227>, line 1)",
          "output_type": "error",
          "traceback": [
            "\u001b[0;36m  File \u001b[0;32m\"<ipython-input-21-3785425ca227>\"\u001b[0;36m, line \u001b[0;32m1\u001b[0m\n\u001b[0;31m    is_today_$aturday = False\u001b[0m\n\u001b[0m             ^\u001b[0m\n\u001b[0;31mSyntaxError\u001b[0m\u001b[0;31m:\u001b[0m invalid syntax\n"
          ]
        }
      ],
      "source": [
        "is_today_$aturday = False"
      ]
    },
    {
      "cell_type": "code",
      "execution_count": null,
      "metadata": {
        "id": "SjXkEUhQd25P",
        "outputId": "15bae00e-b5dc-4195-8601-585b9e2762b9"
      },
      "outputs": [
        {
          "ename": "SyntaxError",
          "evalue": "cannot assign to operator (<ipython-input-22-829f5ed5b10b>, line 1)",
          "output_type": "error",
          "traceback": [
            "\u001b[0;36m  File \u001b[0;32m\"<ipython-input-22-829f5ed5b10b>\"\u001b[0;36m, line \u001b[0;32m1\u001b[0m\n\u001b[0;31m    my-favorite-car = \"Delorean\"\u001b[0m\n\u001b[0m    ^\u001b[0m\n\u001b[0;31mSyntaxError\u001b[0m\u001b[0;31m:\u001b[0m cannot assign to operator\n"
          ]
        }
      ],
      "source": [
        "my-favorite-car = \"Delorean\""
      ]
    },
    {
      "cell_type": "code",
      "execution_count": null,
      "metadata": {
        "id": "cORJLKZsd25R",
        "outputId": "a911b26a-bbce-41e7-bc58-bc7ef9b2edaf"
      },
      "outputs": [
        {
          "ename": "SyntaxError",
          "evalue": "invalid decimal literal (<ipython-input-23-41d8638a15bb>, line 1)",
          "output_type": "error",
          "traceback": [
            "\u001b[0;36m  File \u001b[0;32m\"<ipython-input-23-41d8638a15bb>\"\u001b[0;36m, line \u001b[0;32m1\u001b[0m\n\u001b[0;31m    3_musketeers = [\"Athos\", \"Porthos\", \"Aramis\"]\u001b[0m\n\u001b[0m     ^\u001b[0m\n\u001b[0;31mSyntaxError\u001b[0m\u001b[0;31m:\u001b[0m invalid decimal literal\n"
          ]
        }
      ],
      "source": [
        "3_musketeers = [\"Athos\", \"Porthos\", \"Aramis\"]"
      ]
    },
    {
      "cell_type": "markdown",
      "metadata": {
        "id": "_CYf43v2d25S"
      },
      "source": [
        "### Save and upload your notebook\n",
        "\n",
        "Whether you're running this Jupyter notebook online or on your computer, it's essential to save your work from time to time. You can continue working on a saved notebook later or share it with friends and colleagues to let them execute your code. [Jovian](https://www.jovian.ai) offers an easy way of saving and sharing your Jupyter notebooks online."
      ]
    },
    {
      "cell_type": "code",
      "execution_count": null,
      "metadata": {
        "id": "AU1NL4fPd25U"
      },
      "outputs": [],
      "source": [
        "# Install the jovian library\n",
        "!pip install jovian --upgrade --quiet"
      ]
    },
    {
      "cell_type": "code",
      "execution_count": null,
      "metadata": {
        "id": "cJjQluT5d25V"
      },
      "outputs": [],
      "source": [
        "import jovian"
      ]
    },
    {
      "cell_type": "code",
      "execution_count": null,
      "metadata": {
        "id": "LgZBEJgGd25X",
        "outputId": "aebfa36e-a49a-42f6-9007-f7245ef3f9b4"
      },
      "outputs": [
        {
          "data": {
            "application/javascript": [
              "window.require && require([\"base/js/namespace\"],function(Jupyter){Jupyter.notebook.save_checkpoint()})"
            ],
            "text/plain": [
              "<IPython.core.display.Javascript object>"
            ]
          },
          "metadata": {},
          "output_type": "display_data"
        },
        {
          "name": "stdout",
          "output_type": "stream",
          "text": [
            "[jovian] Attempting to save notebook..\u001b[0m\n",
            "[jovian] Updating notebook \"samanvitha/python-variables-and-data-types\" on https://jovian.ai\u001b[0m\n",
            "[jovian] Uploading notebook..\u001b[0m\n",
            "[jovian] Uploading additional files...\u001b[0m\n",
            "[jovian] Committed successfully! https://jovian.ai/samanvitha/python-variables-and-data-types\u001b[0m\n"
          ]
        },
        {
          "data": {
            "text/plain": [
              "'https://jovian.ai/samanvitha/python-variables-and-data-types'"
            ]
          },
          "execution_count": 26,
          "metadata": {},
          "output_type": "execute_result"
        }
      ],
      "source": [
        "jovian.commit(project='python-variables-and-data-types')"
      ]
    },
    {
      "cell_type": "markdown",
      "metadata": {
        "id": "kyDJgou7d25Z"
      },
      "source": [
        "The first time you run `jovian.commit`, you'll be asked to provide an API Key to securely upload the notebook to your Jovian account. You can get the API key from your [Jovian profile page](https://jovian.ai) after logging in / signing up.\n",
        "\n",
        "\n",
        "`jovian.commit` uploads the notebook to your Jovian account, captures the Python environment, and creates a shareable link for your notebook, as shown above. You can use this link to share your work and let anyone (including you) run your notebooks and reproduce your work."
      ]
    },
    {
      "cell_type": "markdown",
      "metadata": {
        "id": "0uUjc3jXd25b"
      },
      "source": [
        "## Built-in data types in Python\n",
        "\n",
        "Any data or information stored within a Python variable has a *type*. You can view the type of data stored within a variable using the `type` function."
      ]
    },
    {
      "cell_type": "code",
      "execution_count": null,
      "metadata": {
        "id": "DHTGW5jjd25d",
        "outputId": "c0c71f7f-7354-4cb4-d3cb-0dd0a98ab7a6"
      },
      "outputs": [
        {
          "data": {
            "text/plain": [
              "23"
            ]
          },
          "execution_count": 27,
          "metadata": {},
          "output_type": "execute_result"
        }
      ],
      "source": [
        "a_variable"
      ]
    },
    {
      "cell_type": "code",
      "execution_count": null,
      "metadata": {
        "id": "a8E5e1thd25e",
        "outputId": "4ed16cca-f8a4-4cf4-bf75-c3673717192b"
      },
      "outputs": [
        {
          "data": {
            "text/plain": [
              "int"
            ]
          },
          "execution_count": 28,
          "metadata": {},
          "output_type": "execute_result"
        }
      ],
      "source": [
        "type(a_variable)"
      ]
    },
    {
      "cell_type": "code",
      "execution_count": null,
      "metadata": {
        "id": "N4g8nKF1d25g",
        "outputId": "964e1e2c-e783-4e69-9c6f-f0a21c45641c"
      },
      "outputs": [
        {
          "data": {
            "text/plain": [
              "False"
            ]
          },
          "execution_count": 29,
          "metadata": {},
          "output_type": "execute_result"
        }
      ],
      "source": [
        "is_today_Saturday"
      ]
    },
    {
      "cell_type": "code",
      "execution_count": null,
      "metadata": {
        "id": "W7Zz9OJUd25i",
        "outputId": "2d242c79-a158-4000-d68f-46fd82456ebb"
      },
      "outputs": [
        {
          "data": {
            "text/plain": [
              "bool"
            ]
          },
          "execution_count": 30,
          "metadata": {},
          "output_type": "execute_result"
        }
      ],
      "source": [
        "type(is_today_Saturday)"
      ]
    },
    {
      "cell_type": "code",
      "execution_count": null,
      "metadata": {
        "id": "BTxtvxfsd25j",
        "outputId": "3f4a4f0a-f452-4d13-b4f9-435de60441f8"
      },
      "outputs": [
        {
          "data": {
            "text/plain": [
              "'Delorean'"
            ]
          },
          "execution_count": 31,
          "metadata": {},
          "output_type": "execute_result"
        }
      ],
      "source": [
        "my_favorite_car"
      ]
    },
    {
      "cell_type": "code",
      "execution_count": null,
      "metadata": {
        "id": "8MPYhhGVd25l",
        "outputId": "9e9d4164-d020-4bce-e821-e8eb3ab7af5e"
      },
      "outputs": [
        {
          "data": {
            "text/plain": [
              "str"
            ]
          },
          "execution_count": 32,
          "metadata": {},
          "output_type": "execute_result"
        }
      ],
      "source": [
        "type(my_favorite_car)"
      ]
    },
    {
      "cell_type": "code",
      "execution_count": null,
      "metadata": {
        "id": "y-KGkGjcd25m",
        "outputId": "6c55ee7b-29d0-4cf6-ad0f-1d792e83d1ff"
      },
      "outputs": [
        {
          "data": {
            "text/plain": [
              "['Athos', 'Porthos', 'Aramis']"
            ]
          },
          "execution_count": 33,
          "metadata": {},
          "output_type": "execute_result"
        }
      ],
      "source": [
        "the_3_musketeers"
      ]
    },
    {
      "cell_type": "code",
      "execution_count": null,
      "metadata": {
        "id": "z7zjGp5Ud25o",
        "outputId": "0d49c7dc-b0fe-4a0c-de8d-2aa551d319a7"
      },
      "outputs": [
        {
          "data": {
            "text/plain": [
              "list"
            ]
          },
          "execution_count": 34,
          "metadata": {},
          "output_type": "execute_result"
        }
      ],
      "source": [
        "type(the_3_musketeers)"
      ]
    },
    {
      "cell_type": "markdown",
      "metadata": {
        "id": "M93QjQkSd25q"
      },
      "source": [
        "Python has several built-in data types for storing different kinds of information in variables. Following are some commonly used data types:\n",
        "\n",
        "1. Integer\n",
        "2. Float\n",
        "3. Boolean\n",
        "4. None\n",
        "5. String\n",
        "6. List\n",
        "7. Tuple\n",
        "8. Dictionary\n",
        "\n",
        "Integer, float, boolean, None, and string are *primitive data types* because they represent a single value. Other data types like list, tuple, and dictionary are often called *data structures* or *containers* because they hold multiple pieces of data together."
      ]
    },
    {
      "cell_type": "markdown",
      "metadata": {
        "id": "aiYU36DVd25s"
      },
      "source": [
        "### Integer\n",
        "\n",
        "Integers represent positive or negative whole numbers, from negative infinity to infinity. Note that integers should not include decimal points. Integers have the type `int`."
      ]
    },
    {
      "cell_type": "code",
      "execution_count": null,
      "metadata": {
        "id": "jTCPua0Id25t"
      },
      "outputs": [],
      "source": [
        "current_year = 2020"
      ]
    },
    {
      "cell_type": "code",
      "execution_count": null,
      "metadata": {
        "id": "g5RA2pq1d25v",
        "outputId": "93f7c296-6ff8-44f1-dccb-38532a5c14dc"
      },
      "outputs": [
        {
          "data": {
            "text/plain": [
              "2020"
            ]
          },
          "execution_count": 36,
          "metadata": {},
          "output_type": "execute_result"
        }
      ],
      "source": [
        "current_year"
      ]
    },
    {
      "cell_type": "code",
      "execution_count": null,
      "metadata": {
        "id": "4h4Cgrr1d25x",
        "outputId": "fe91cb8d-195c-4a45-cc9d-f1e3846339f6"
      },
      "outputs": [
        {
          "data": {
            "text/plain": [
              "int"
            ]
          },
          "execution_count": 37,
          "metadata": {},
          "output_type": "execute_result"
        }
      ],
      "source": [
        "type(current_year)"
      ]
    },
    {
      "cell_type": "markdown",
      "metadata": {
        "id": "oQoOYyrMd25y"
      },
      "source": [
        "Unlike some other programming languages, integers in Python can be arbitrarily large (or small). There's no lowest or highest value for integers, and there's just one `int` type (as opposed to `short`, `int`, `long`, `long long`, `unsigned int`, etc. in C/C++/Java)."
      ]
    },
    {
      "cell_type": "code",
      "execution_count": null,
      "metadata": {
        "id": "SOKMAD_ud250"
      },
      "outputs": [],
      "source": [
        "a_large_negative_number = -23374038374832934334234317348343"
      ]
    },
    {
      "cell_type": "code",
      "execution_count": null,
      "metadata": {
        "id": "imHm7hiUd251",
        "outputId": "697b8402-7f85-4760-909b-113e62e523f9"
      },
      "outputs": [
        {
          "data": {
            "text/plain": [
              "-23374038374832934334234317348343"
            ]
          },
          "execution_count": 39,
          "metadata": {},
          "output_type": "execute_result"
        }
      ],
      "source": [
        "a_large_negative_number"
      ]
    },
    {
      "cell_type": "code",
      "execution_count": null,
      "metadata": {
        "id": "qhGln-7kd253",
        "outputId": "994d2483-b60a-4c28-d8b8-fb046e759c87"
      },
      "outputs": [
        {
          "data": {
            "text/plain": [
              "int"
            ]
          },
          "execution_count": 40,
          "metadata": {},
          "output_type": "execute_result"
        }
      ],
      "source": [
        "type(a_large_negative_number)"
      ]
    },
    {
      "cell_type": "markdown",
      "metadata": {
        "id": "r7cAe1UTd254"
      },
      "source": [
        "### Float\n",
        "\n",
        "Floats (or floating-point numbers) are numbers with a decimal point. There are no limits on the value or the number of digits before or after the decimal point. Floating-point numbers have the type `float`."
      ]
    },
    {
      "cell_type": "code",
      "execution_count": null,
      "metadata": {
        "id": "73EOb6A6d256"
      },
      "outputs": [],
      "source": [
        "pi = 3.141592653589793238"
      ]
    },
    {
      "cell_type": "code",
      "execution_count": null,
      "metadata": {
        "id": "K9dIKaEqd257",
        "outputId": "e6933d15-e68b-4b42-899e-1939a26a672d"
      },
      "outputs": [
        {
          "data": {
            "text/plain": [
              "3.141592653589793"
            ]
          },
          "execution_count": 42,
          "metadata": {},
          "output_type": "execute_result"
        }
      ],
      "source": [
        "pi"
      ]
    },
    {
      "cell_type": "code",
      "execution_count": null,
      "metadata": {
        "id": "vFjs2N_Jd259",
        "outputId": "d0d4d0f9-72e4-4f09-a2cc-d41b958ca930"
      },
      "outputs": [
        {
          "data": {
            "text/plain": [
              "float"
            ]
          },
          "execution_count": 43,
          "metadata": {},
          "output_type": "execute_result"
        }
      ],
      "source": [
        "type(pi)"
      ]
    },
    {
      "cell_type": "markdown",
      "metadata": {
        "id": "A4V4kOqQd25_"
      },
      "source": [
        "Note that a whole number is treated as a float if written with a decimal point, even though the decimal portion of the number is zero."
      ]
    },
    {
      "cell_type": "code",
      "execution_count": null,
      "metadata": {
        "id": "-nmyH3RBd26A"
      },
      "outputs": [],
      "source": [
        "a_number = 3.0"
      ]
    },
    {
      "cell_type": "code",
      "execution_count": null,
      "metadata": {
        "id": "8RXefPhad26B",
        "outputId": "5b3f026d-0e82-4ab1-ece6-3bcd52cc20e6"
      },
      "outputs": [
        {
          "data": {
            "text/plain": [
              "3.0"
            ]
          },
          "execution_count": 45,
          "metadata": {},
          "output_type": "execute_result"
        }
      ],
      "source": [
        "a_number"
      ]
    },
    {
      "cell_type": "code",
      "execution_count": null,
      "metadata": {
        "id": "6IJphKJAd26D",
        "outputId": "d8564f7a-241f-49dc-a033-17a64f9e4ebd"
      },
      "outputs": [
        {
          "data": {
            "text/plain": [
              "float"
            ]
          },
          "execution_count": 46,
          "metadata": {},
          "output_type": "execute_result"
        }
      ],
      "source": [
        "type(a_number)"
      ]
    },
    {
      "cell_type": "code",
      "execution_count": null,
      "metadata": {
        "id": "RqDlgelOd26M"
      },
      "outputs": [],
      "source": [
        "another_number = 4."
      ]
    },
    {
      "cell_type": "code",
      "execution_count": null,
      "metadata": {
        "id": "9JnsBximd26O",
        "outputId": "45fc5610-8d21-466c-cdca-7fff51ae43b0"
      },
      "outputs": [
        {
          "data": {
            "text/plain": [
              "4.0"
            ]
          },
          "execution_count": 48,
          "metadata": {},
          "output_type": "execute_result"
        }
      ],
      "source": [
        "another_number"
      ]
    },
    {
      "cell_type": "code",
      "execution_count": null,
      "metadata": {
        "id": "2Ds8PoN9d26P",
        "outputId": "849cd9f3-6639-42e7-8592-4c7b7c3da0d9"
      },
      "outputs": [
        {
          "data": {
            "text/plain": [
              "float"
            ]
          },
          "execution_count": 49,
          "metadata": {},
          "output_type": "execute_result"
        }
      ],
      "source": [
        "type(another_number)"
      ]
    },
    {
      "cell_type": "markdown",
      "metadata": {
        "id": "YyMlKedmd26R"
      },
      "source": [
        "Floating point numbers can also be written using the scientific notation with an \"e\" to indicate the power of 10."
      ]
    },
    {
      "cell_type": "code",
      "execution_count": null,
      "metadata": {
        "id": "p_Ph9_Qqd26S"
      },
      "outputs": [],
      "source": [
        "one_hundredth = 1e-2"
      ]
    },
    {
      "cell_type": "code",
      "execution_count": null,
      "metadata": {
        "id": "3EVP_zc1d26U",
        "outputId": "a7141afa-bc08-4af5-dc0d-f8cbc22328f8"
      },
      "outputs": [
        {
          "data": {
            "text/plain": [
              "0.01"
            ]
          },
          "execution_count": 51,
          "metadata": {},
          "output_type": "execute_result"
        }
      ],
      "source": [
        "one_hundredth"
      ]
    },
    {
      "cell_type": "code",
      "execution_count": null,
      "metadata": {
        "id": "FDlWVL2Gd26V",
        "outputId": "bf99ea1b-4773-4b51-a923-a876f5556c85"
      },
      "outputs": [
        {
          "data": {
            "text/plain": [
              "float"
            ]
          },
          "execution_count": 52,
          "metadata": {},
          "output_type": "execute_result"
        }
      ],
      "source": [
        "type(one_hundredth)"
      ]
    },
    {
      "cell_type": "code",
      "execution_count": null,
      "metadata": {
        "id": "FDQdJhtnd26X"
      },
      "outputs": [],
      "source": [
        "avogadro_number = 6.02214076e23"
      ]
    },
    {
      "cell_type": "code",
      "execution_count": null,
      "metadata": {
        "id": "uEWnNt6gd26Y",
        "outputId": "51104cd8-5283-41d5-e2ff-ba0ec5b99db5"
      },
      "outputs": [
        {
          "data": {
            "text/plain": [
              "6.02214076e+23"
            ]
          },
          "execution_count": 54,
          "metadata": {},
          "output_type": "execute_result"
        }
      ],
      "source": [
        "avogadro_number"
      ]
    },
    {
      "cell_type": "code",
      "execution_count": null,
      "metadata": {
        "id": "pJ6pum8Td26a",
        "outputId": "223f8a49-f69b-4e36-ecac-edb55fbcf281"
      },
      "outputs": [
        {
          "data": {
            "text/plain": [
              "float"
            ]
          },
          "execution_count": 55,
          "metadata": {},
          "output_type": "execute_result"
        }
      ],
      "source": [
        "type(avogadro_number)"
      ]
    },
    {
      "cell_type": "markdown",
      "metadata": {
        "id": "ckVS66ZUd26c"
      },
      "source": [
        "You can convert floats into integers and vice versa using the `float` and `int` functions. The operation of converting one type of value into another is called casting."
      ]
    },
    {
      "cell_type": "code",
      "execution_count": null,
      "metadata": {
        "id": "cGI8QL7Md26e",
        "outputId": "74ed0de6-b2e0-493e-dd7a-2b6a6e89153f"
      },
      "outputs": [
        {
          "data": {
            "text/plain": [
              "2020.0"
            ]
          },
          "execution_count": 56,
          "metadata": {},
          "output_type": "execute_result"
        }
      ],
      "source": [
        "float(current_year)"
      ]
    },
    {
      "cell_type": "code",
      "execution_count": null,
      "metadata": {
        "id": "TJSdQ181d26g",
        "outputId": "f9396998-2a1b-452c-e6f4-c7e386bf13e7"
      },
      "outputs": [
        {
          "data": {
            "text/plain": [
              "-2.3374038374832935e+31"
            ]
          },
          "execution_count": 57,
          "metadata": {},
          "output_type": "execute_result"
        }
      ],
      "source": [
        "float(a_large_negative_number)"
      ]
    },
    {
      "cell_type": "code",
      "execution_count": null,
      "metadata": {
        "id": "4lADvAzBd26i",
        "outputId": "5c247bda-d0cf-4a38-c129-da597d06407e"
      },
      "outputs": [
        {
          "data": {
            "text/plain": [
              "3"
            ]
          },
          "execution_count": 58,
          "metadata": {},
          "output_type": "execute_result"
        }
      ],
      "source": [
        "int(pi)"
      ]
    },
    {
      "cell_type": "code",
      "execution_count": null,
      "metadata": {
        "id": "1AkqJOf3d26j",
        "outputId": "3ddedbbb-db24-4d93-a267-792627935487"
      },
      "outputs": [
        {
          "data": {
            "text/plain": [
              "602214075999999987023872"
            ]
          },
          "execution_count": 59,
          "metadata": {},
          "output_type": "execute_result"
        }
      ],
      "source": [
        "int(avogadro_number)"
      ]
    },
    {
      "cell_type": "markdown",
      "metadata": {
        "id": "C4kRtrQNd26l"
      },
      "source": [
        "While performing arithmetic operations, integers are automatically converted to `float`s if any of the operands is a `float`. Also, the division operator `/` always returns a `float`, even if both operands are integers. Use the `//` operator if you want the result of the division to be an `int`."
      ]
    },
    {
      "cell_type": "code",
      "execution_count": null,
      "metadata": {
        "id": "CjIzl3kid26n",
        "outputId": "0261a53c-7a61-4b8c-bc8c-832adcad2c30"
      },
      "outputs": [
        {
          "data": {
            "text/plain": [
              "float"
            ]
          },
          "execution_count": 60,
          "metadata": {},
          "output_type": "execute_result"
        }
      ],
      "source": [
        "type(45 * 3.0)"
      ]
    },
    {
      "cell_type": "code",
      "execution_count": null,
      "metadata": {
        "id": "1V_V52t4d26p",
        "outputId": "4b853d7b-ae2e-4624-84e9-33ad9c8bab3a"
      },
      "outputs": [
        {
          "data": {
            "text/plain": [
              "int"
            ]
          },
          "execution_count": 61,
          "metadata": {},
          "output_type": "execute_result"
        }
      ],
      "source": [
        "type(45 * 3)"
      ]
    },
    {
      "cell_type": "code",
      "execution_count": null,
      "metadata": {
        "id": "GEpfENTLd26q",
        "outputId": "54ec9560-3c44-4430-d0b9-32f3b42bd1ef"
      },
      "outputs": [
        {
          "data": {
            "text/plain": [
              "float"
            ]
          },
          "execution_count": 62,
          "metadata": {},
          "output_type": "execute_result"
        }
      ],
      "source": [
        "type(10/3)"
      ]
    },
    {
      "cell_type": "code",
      "execution_count": null,
      "metadata": {
        "id": "FTzgmKw7d26s",
        "outputId": "53fb948d-b914-46e2-eda8-e0892296d9c5"
      },
      "outputs": [
        {
          "data": {
            "text/plain": [
              "float"
            ]
          },
          "execution_count": 63,
          "metadata": {},
          "output_type": "execute_result"
        }
      ],
      "source": [
        "type(10/2)"
      ]
    },
    {
      "cell_type": "code",
      "execution_count": null,
      "metadata": {
        "id": "VZbgJyuNd26t",
        "outputId": "7704640f-05a9-4f30-ccba-b5285d916ed4"
      },
      "outputs": [
        {
          "data": {
            "text/plain": [
              "int"
            ]
          },
          "execution_count": 64,
          "metadata": {},
          "output_type": "execute_result"
        }
      ],
      "source": [
        "type(10//2)"
      ]
    },
    {
      "cell_type": "markdown",
      "metadata": {
        "id": "zYUjbevkd26v"
      },
      "source": [
        "### Boolean\n",
        "\n",
        "Booleans represent one of 2 values: `True` and `False`. Booleans have the type `bool`."
      ]
    },
    {
      "cell_type": "code",
      "execution_count": null,
      "metadata": {
        "id": "clAXEDvdd26w"
      },
      "outputs": [],
      "source": [
        "is_today_Sunday = True"
      ]
    },
    {
      "cell_type": "code",
      "execution_count": null,
      "metadata": {
        "id": "a9q0jiRwd26x",
        "outputId": "0fc933c0-d2c6-46c9-f406-3a8870cfc75b"
      },
      "outputs": [
        {
          "data": {
            "text/plain": [
              "True"
            ]
          },
          "execution_count": 66,
          "metadata": {},
          "output_type": "execute_result"
        }
      ],
      "source": [
        "is_today_Sunday"
      ]
    },
    {
      "cell_type": "code",
      "execution_count": null,
      "metadata": {
        "id": "hkDI3VIWd26z",
        "outputId": "8e4ec3be-7ac4-40c5-c60d-dfbb8ec868f9"
      },
      "outputs": [
        {
          "data": {
            "text/plain": [
              "bool"
            ]
          },
          "execution_count": 67,
          "metadata": {},
          "output_type": "execute_result"
        }
      ],
      "source": [
        "type(is_today_Saturday)"
      ]
    },
    {
      "cell_type": "markdown",
      "metadata": {
        "id": "DhRJXXaVd260"
      },
      "source": [
        "Booleans are generally the result of a comparison operation, e.g., `==`, `>=`, etc."
      ]
    },
    {
      "cell_type": "code",
      "execution_count": null,
      "metadata": {
        "id": "9DjbGH89d261"
      },
      "outputs": [],
      "source": [
        "cost_of_ice_bag = 1.25\n",
        "is_ice_bag_expensive = cost_of_ice_bag >= 10"
      ]
    },
    {
      "cell_type": "code",
      "execution_count": null,
      "metadata": {
        "id": "ghCGZagVd263",
        "outputId": "a0911399-fcf6-43a0-c374-fd50a7874c9d"
      },
      "outputs": [
        {
          "data": {
            "text/plain": [
              "False"
            ]
          },
          "execution_count": 69,
          "metadata": {},
          "output_type": "execute_result"
        }
      ],
      "source": [
        "is_ice_bag_expensive"
      ]
    },
    {
      "cell_type": "code",
      "execution_count": null,
      "metadata": {
        "id": "nxBy4WALd264",
        "outputId": "fb5a61a5-61b3-42a8-9ad9-1f5d0728d411"
      },
      "outputs": [
        {
          "data": {
            "text/plain": [
              "bool"
            ]
          },
          "execution_count": 70,
          "metadata": {},
          "output_type": "execute_result"
        }
      ],
      "source": [
        "type(is_ice_bag_expensive)"
      ]
    },
    {
      "cell_type": "markdown",
      "metadata": {
        "id": "wDEotEnrd266"
      },
      "source": [
        "Booleans are automatically converted to `int`s when used in arithmetic operations. `True` is converted to `1` and `False` is converted to `0`."
      ]
    },
    {
      "cell_type": "code",
      "execution_count": null,
      "metadata": {
        "id": "m_JqzcdCd267",
        "outputId": "4cf3a6cc-4653-474d-a389-def037142206"
      },
      "outputs": [
        {
          "data": {
            "text/plain": [
              "5"
            ]
          },
          "execution_count": 71,
          "metadata": {},
          "output_type": "execute_result"
        }
      ],
      "source": [
        "5 + False"
      ]
    },
    {
      "cell_type": "code",
      "execution_count": null,
      "metadata": {
        "id": "6gRpGeoad268",
        "outputId": "9f1a58fd-15a5-4438-a5ad-66569fe0172d"
      },
      "outputs": [
        {
          "data": {
            "text/plain": [
              "4.0"
            ]
          },
          "execution_count": 72,
          "metadata": {},
          "output_type": "execute_result"
        }
      ],
      "source": [
        "3. + True"
      ]
    },
    {
      "cell_type": "markdown",
      "metadata": {
        "id": "7FUospvud26-"
      },
      "source": [
        "Any value in Python can be converted to a Boolean using the `bool` function. \n",
        "\n",
        "Only the following values evaluate to `False` (they are often called *falsy* values):\n",
        "\n",
        "1. The value `False` itself\n",
        "2. The integer `0`\n",
        "3. The float `0.0`\n",
        "4. The empty value `None`\n",
        "5. The empty text `\"\"`\n",
        "6. The empty list `[]`\n",
        "7. The empty tuple `()`\n",
        "8. The empty dictionary `{}`\n",
        "9. The empty set `set()`\n",
        "10. The empty range `range(0)`\n",
        "\n",
        "Everything else evaluates to `True` (a value that evaluates to `True` is often called a *truthy* value)."
      ]
    },
    {
      "cell_type": "code",
      "execution_count": null,
      "metadata": {
        "id": "dT7_77cid27A",
        "outputId": "e8b01f2e-7703-4e3c-b73e-050afa360010"
      },
      "outputs": [
        {
          "data": {
            "text/plain": [
              "False"
            ]
          },
          "execution_count": 73,
          "metadata": {},
          "output_type": "execute_result"
        }
      ],
      "source": [
        "bool(False)"
      ]
    },
    {
      "cell_type": "code",
      "execution_count": null,
      "metadata": {
        "id": "Pe9-DNHfd27B",
        "outputId": "ee4aec3f-16f3-4367-8339-d7471a5d3b10"
      },
      "outputs": [
        {
          "data": {
            "text/plain": [
              "False"
            ]
          },
          "execution_count": 74,
          "metadata": {},
          "output_type": "execute_result"
        }
      ],
      "source": [
        "bool(0)"
      ]
    },
    {
      "cell_type": "code",
      "execution_count": null,
      "metadata": {
        "id": "TNW2ABNyd27D",
        "outputId": "a51ad875-9ccf-484e-a3a9-74656425bcd6"
      },
      "outputs": [
        {
          "data": {
            "text/plain": [
              "False"
            ]
          },
          "execution_count": 75,
          "metadata": {},
          "output_type": "execute_result"
        }
      ],
      "source": [
        "bool(0.0)"
      ]
    },
    {
      "cell_type": "code",
      "execution_count": null,
      "metadata": {
        "id": "XVOwZHwNd27F",
        "outputId": "9c6c66dc-ff33-4460-8c95-6559a74e0ba4"
      },
      "outputs": [
        {
          "data": {
            "text/plain": [
              "False"
            ]
          },
          "execution_count": 76,
          "metadata": {},
          "output_type": "execute_result"
        }
      ],
      "source": [
        "bool(None)"
      ]
    },
    {
      "cell_type": "code",
      "execution_count": null,
      "metadata": {
        "id": "SJ8PvnSkd27G",
        "outputId": "dfc3fb54-58a2-4c14-e703-f8d5997f77ed"
      },
      "outputs": [
        {
          "data": {
            "text/plain": [
              "False"
            ]
          },
          "execution_count": 77,
          "metadata": {},
          "output_type": "execute_result"
        }
      ],
      "source": [
        "bool(\"\")"
      ]
    },
    {
      "cell_type": "code",
      "execution_count": null,
      "metadata": {
        "id": "1EjZt9Dld27I",
        "outputId": "982a8159-ee0b-48b2-b651-58b8a6d38a42"
      },
      "outputs": [
        {
          "data": {
            "text/plain": [
              "False"
            ]
          },
          "execution_count": 78,
          "metadata": {},
          "output_type": "execute_result"
        }
      ],
      "source": [
        "bool([])"
      ]
    },
    {
      "cell_type": "code",
      "execution_count": null,
      "metadata": {
        "id": "pM5OjVBTd27J",
        "outputId": "8e928ad0-10f6-4be2-a54a-f6b192ac5425"
      },
      "outputs": [
        {
          "data": {
            "text/plain": [
              "False"
            ]
          },
          "execution_count": 79,
          "metadata": {},
          "output_type": "execute_result"
        }
      ],
      "source": [
        "bool(())"
      ]
    },
    {
      "cell_type": "code",
      "execution_count": null,
      "metadata": {
        "id": "Oz39yExbd27L",
        "outputId": "ec05eb76-c46b-450f-9820-afe37253c8d2"
      },
      "outputs": [
        {
          "data": {
            "text/plain": [
              "False"
            ]
          },
          "execution_count": 80,
          "metadata": {},
          "output_type": "execute_result"
        }
      ],
      "source": [
        "bool({})"
      ]
    },
    {
      "cell_type": "code",
      "execution_count": null,
      "metadata": {
        "id": "n-p-jongd27M",
        "outputId": "294841ef-ed17-4a62-a844-362451486fdc"
      },
      "outputs": [
        {
          "data": {
            "text/plain": [
              "False"
            ]
          },
          "execution_count": 81,
          "metadata": {},
          "output_type": "execute_result"
        }
      ],
      "source": [
        "bool(set())"
      ]
    },
    {
      "cell_type": "code",
      "execution_count": null,
      "metadata": {
        "id": "CVtBbMoyd27O",
        "outputId": "21f6b8c4-7942-4821-fc2b-97854116fbd1"
      },
      "outputs": [
        {
          "data": {
            "text/plain": [
              "False"
            ]
          },
          "execution_count": 82,
          "metadata": {},
          "output_type": "execute_result"
        }
      ],
      "source": [
        "bool(range(0))"
      ]
    },
    {
      "cell_type": "code",
      "execution_count": null,
      "metadata": {
        "id": "bXLXyeEId27P",
        "outputId": "09ea6021-935f-441c-f02d-3df276c24117"
      },
      "outputs": [
        {
          "data": {
            "text/plain": [
              "(True, True, True, True, True, True, True)"
            ]
          },
          "execution_count": 83,
          "metadata": {},
          "output_type": "execute_result"
        }
      ],
      "source": [
        "bool(True), bool(1), bool(2.0), bool(\"hello\"), bool([1,2]), bool((2,3)), bool(range(10))"
      ]
    },
    {
      "cell_type": "markdown",
      "metadata": {
        "id": "U2xcpR9hd27R"
      },
      "source": [
        "### None\n",
        "\n",
        "The None type includes a single value `None`, used to indicate the absence of a value. `None` has the type `NoneType`. It is often used to declare a variable whose value may be assigned later."
      ]
    },
    {
      "cell_type": "code",
      "execution_count": null,
      "metadata": {
        "id": "ANnn_EqId27S"
      },
      "outputs": [],
      "source": [
        "nothing = None"
      ]
    },
    {
      "cell_type": "code",
      "execution_count": null,
      "metadata": {
        "id": "oQwkGo2Zd27U",
        "outputId": "6e7538b0-f6e1-4ee6-955d-c61605e64851"
      },
      "outputs": [
        {
          "data": {
            "text/plain": [
              "NoneType"
            ]
          },
          "execution_count": 85,
          "metadata": {},
          "output_type": "execute_result"
        }
      ],
      "source": [
        "type(nothing)"
      ]
    },
    {
      "cell_type": "markdown",
      "metadata": {
        "id": "aqpg26kbd27W"
      },
      "source": [
        "### String\n",
        "\n",
        "A string is used to represent text (*a string of characters*) in Python. Strings must be surrounded using quotations (either the single quote `'` or the double quote `\"`). Strings have the type `string`."
      ]
    },
    {
      "cell_type": "code",
      "execution_count": null,
      "metadata": {
        "id": "jZtzbfSUd27Y"
      },
      "outputs": [],
      "source": [
        "today = \"Saturday\""
      ]
    },
    {
      "cell_type": "code",
      "execution_count": null,
      "metadata": {
        "id": "UFapn-WGd27Z",
        "outputId": "bae15ae5-364c-4ee1-9255-e18a61f39938"
      },
      "outputs": [
        {
          "data": {
            "text/plain": [
              "'Saturday'"
            ]
          },
          "execution_count": 87,
          "metadata": {},
          "output_type": "execute_result"
        }
      ],
      "source": [
        "today"
      ]
    },
    {
      "cell_type": "code",
      "execution_count": null,
      "metadata": {
        "id": "QtycS4Smd27b",
        "outputId": "2872099e-4159-4f0e-b1aa-2e929df7b383"
      },
      "outputs": [
        {
          "data": {
            "text/plain": [
              "str"
            ]
          },
          "execution_count": 88,
          "metadata": {},
          "output_type": "execute_result"
        }
      ],
      "source": [
        "type(today)"
      ]
    },
    {
      "cell_type": "markdown",
      "metadata": {
        "id": "qSm_dep7d27c"
      },
      "source": [
        "You can use single quotes inside a string written with double quotes, and vice versa."
      ]
    },
    {
      "cell_type": "code",
      "execution_count": null,
      "metadata": {
        "id": "KQ6d-Nq2d27e"
      },
      "outputs": [],
      "source": [
        "my_favorite_movie = \"One Flew over the Cuckoo's Nest\" "
      ]
    },
    {
      "cell_type": "code",
      "execution_count": null,
      "metadata": {
        "id": "LW6s1_D1d27f",
        "outputId": "92f1c838-97a0-48bb-84b9-b7826c4399b4"
      },
      "outputs": [
        {
          "data": {
            "text/plain": [
              "\"One Flew over the Cuckoo's Nest\""
            ]
          },
          "execution_count": 90,
          "metadata": {},
          "output_type": "execute_result"
        }
      ],
      "source": [
        "my_favorite_movie"
      ]
    },
    {
      "cell_type": "code",
      "execution_count": null,
      "metadata": {
        "id": "UNkBnRoCd27g"
      },
      "outputs": [],
      "source": [
        "my_favorite_pun = 'Thanks for explaining the word \"many\" to me, it means a lot.'"
      ]
    },
    {
      "cell_type": "code",
      "execution_count": null,
      "metadata": {
        "id": "tX5873Ded27i",
        "outputId": "7764a089-9b2e-480f-fb66-fbe26e71f965"
      },
      "outputs": [
        {
          "data": {
            "text/plain": [
              "'Thanks for explaining the word \"many\" to me, it means a lot.'"
            ]
          },
          "execution_count": 92,
          "metadata": {},
          "output_type": "execute_result"
        }
      ],
      "source": [
        "my_favorite_pun"
      ]
    },
    {
      "cell_type": "markdown",
      "metadata": {
        "id": "MrtA3glxd27j"
      },
      "source": [
        "To use a double quote within a string written with double quotes, *escape* the inner quotes by prefixing them with the `\\` character."
      ]
    },
    {
      "cell_type": "code",
      "execution_count": null,
      "metadata": {
        "id": "d3iEroM4d27k"
      },
      "outputs": [],
      "source": [
        "another_pun = \"The first time I got a universal remote control, I thought to myself \\\"This changes everything\\\".\""
      ]
    },
    {
      "cell_type": "code",
      "execution_count": null,
      "metadata": {
        "id": "iZDomIDCd27m",
        "outputId": "fe7e34dc-d59f-4980-d4c0-f4c8d2e52a49"
      },
      "outputs": [
        {
          "data": {
            "text/plain": [
              "'The first time I got a universal remote control, I thought to myself \"This changes everything\".'"
            ]
          },
          "execution_count": 94,
          "metadata": {},
          "output_type": "execute_result"
        }
      ],
      "source": [
        "another_pun"
      ]
    },
    {
      "cell_type": "markdown",
      "metadata": {
        "id": "RTrX6aukd27n"
      },
      "source": [
        "Strings created using single or double quotes must begin and end on the same line. To create multiline strings, use three single quotes `'''` or three double quotes `\"\"\"` to begin and end the string. Line breaks are represented using the newline character `\\n`."
      ]
    },
    {
      "cell_type": "code",
      "execution_count": null,
      "metadata": {
        "id": "VETOnsbnd27p"
      },
      "outputs": [],
      "source": [
        "yet_another_pun = '''Son: \"Dad, can you tell me what a solar eclipse is?\" \n",
        "Dad: \"No sun.\"'''"
      ]
    },
    {
      "cell_type": "code",
      "execution_count": null,
      "metadata": {
        "id": "AxZMhSCyd27q",
        "outputId": "d6fa0eb1-be30-4c05-debf-ba60cff7db3a"
      },
      "outputs": [
        {
          "data": {
            "text/plain": [
              "'Son: \"Dad, can you tell me what a solar eclipse is?\" \\nDad: \"No sun.\"'"
            ]
          },
          "execution_count": 96,
          "metadata": {},
          "output_type": "execute_result"
        }
      ],
      "source": [
        "yet_another_pun"
      ]
    },
    {
      "cell_type": "markdown",
      "metadata": {
        "id": "BR_xU68Jd27s"
      },
      "source": [
        "Multiline strings are best displayed using the `print` function."
      ]
    },
    {
      "cell_type": "code",
      "execution_count": null,
      "metadata": {
        "id": "sM8hezDQd27t",
        "outputId": "43b74f47-6ccd-4770-e08d-d9a99785753c"
      },
      "outputs": [
        {
          "name": "stdout",
          "output_type": "stream",
          "text": [
            "Son: \"Dad, can you tell me what a solar eclipse is?\" \n",
            "Dad: \"No sun.\"\n"
          ]
        }
      ],
      "source": [
        "print(yet_another_pun)"
      ]
    },
    {
      "cell_type": "code",
      "execution_count": null,
      "metadata": {
        "id": "ufXzurIrd27v"
      },
      "outputs": [],
      "source": [
        "a_music_pun = \"\"\"\n",
        "Two windmills are standing in a field and one asks the other, \n",
        "\"What kind of music do you like?\"  \n",
        "\n",
        "The other says, \n",
        "\"I'm a big metal fan.\"\n",
        "\"\"\""
      ]
    },
    {
      "cell_type": "code",
      "execution_count": null,
      "metadata": {
        "id": "SatBo3jTd27x",
        "outputId": "03eb2ec5-8303-49be-9cb7-c9beacdf0c88"
      },
      "outputs": [
        {
          "name": "stdout",
          "output_type": "stream",
          "text": [
            "\n",
            "Two windmills are standing in a field and one asks the other, \n",
            "\"What kind of music do you like?\"  \n",
            "\n",
            "The other says, \n",
            "\"I'm a big metal fan.\"\n",
            "\n"
          ]
        }
      ],
      "source": [
        "print(a_music_pun)"
      ]
    },
    {
      "cell_type": "markdown",
      "metadata": {
        "id": "HFP4rZ_Hd27z"
      },
      "source": [
        "You can check the length of a string using the `len` function."
      ]
    },
    {
      "cell_type": "code",
      "execution_count": null,
      "metadata": {
        "id": "_FQ-O4jsd270",
        "outputId": "433c1291-3a8e-4d83-f497-838de54e661d"
      },
      "outputs": [
        {
          "data": {
            "text/plain": [
              "31"
            ]
          },
          "execution_count": 100,
          "metadata": {},
          "output_type": "execute_result"
        }
      ],
      "source": [
        "len(my_favorite_movie)"
      ]
    },
    {
      "cell_type": "markdown",
      "metadata": {
        "id": "oW_j-r67d271"
      },
      "source": [
        "Note that special characters like `\\n` and escaped characters like `\\\"` count as a single character, even though they are written and sometimes printed as two characters."
      ]
    },
    {
      "cell_type": "code",
      "execution_count": null,
      "metadata": {
        "id": "t2X6yuVBd273",
        "outputId": "cec9485a-1e67-4d00-f99b-5bff071b01b1"
      },
      "outputs": [
        {
          "data": {
            "text/plain": [
              "'a\\nb'"
            ]
          },
          "execution_count": 101,
          "metadata": {},
          "output_type": "execute_result"
        }
      ],
      "source": [
        "multiline_string = \"\"\"a\n",
        "b\"\"\"\n",
        "multiline_string"
      ]
    },
    {
      "cell_type": "code",
      "execution_count": null,
      "metadata": {
        "id": "TlbEF9IRd274",
        "outputId": "9d3db94e-a909-4279-affa-cca1585f61a0"
      },
      "outputs": [
        {
          "data": {
            "text/plain": [
              "3"
            ]
          },
          "execution_count": 102,
          "metadata": {},
          "output_type": "execute_result"
        }
      ],
      "source": [
        "len(multiline_string)"
      ]
    },
    {
      "cell_type": "markdown",
      "metadata": {
        "id": "3ggVj91fd276"
      },
      "source": [
        "A string can be converted into a list of characters using `list` function."
      ]
    },
    {
      "cell_type": "code",
      "execution_count": null,
      "metadata": {
        "id": "sF1Km89md278",
        "outputId": "71e461b4-0fa6-4231-dd42-d7dccbbb0970"
      },
      "outputs": [
        {
          "data": {
            "text/plain": [
              "['a', '\\n', 'b']"
            ]
          },
          "execution_count": 103,
          "metadata": {},
          "output_type": "execute_result"
        }
      ],
      "source": [
        "list(multiline_string)"
      ]
    },
    {
      "cell_type": "markdown",
      "metadata": {
        "id": "XCqW6YlHd27-"
      },
      "source": [
        "Strings also support several list operations, which are discussed in the next section. We'll look at a couple of examples here.\n",
        "\n",
        "You can access individual characters within a string using the `[]` indexing notation. Note the character indices go from `0` to `n-1`, where `n` is the length of the string."
      ]
    },
    {
      "cell_type": "code",
      "execution_count": null,
      "metadata": {
        "id": "ABi6NynLd28A"
      },
      "outputs": [],
      "source": [
        "today = \"Saturday\""
      ]
    },
    {
      "cell_type": "code",
      "execution_count": null,
      "metadata": {
        "id": "5X_ZBd7Md28C",
        "outputId": "2d7e158c-416f-4316-beea-a66084454861"
      },
      "outputs": [
        {
          "data": {
            "text/plain": [
              "'S'"
            ]
          },
          "execution_count": 105,
          "metadata": {},
          "output_type": "execute_result"
        }
      ],
      "source": [
        "today[0]"
      ]
    },
    {
      "cell_type": "code",
      "execution_count": null,
      "metadata": {
        "id": "6_Y89sEhd28E",
        "outputId": "ae849b27-f030-430d-c5d3-2157aeb10470"
      },
      "outputs": [
        {
          "data": {
            "text/plain": [
              "'u'"
            ]
          },
          "execution_count": 106,
          "metadata": {},
          "output_type": "execute_result"
        }
      ],
      "source": [
        "today[3]"
      ]
    },
    {
      "cell_type": "code",
      "execution_count": null,
      "metadata": {
        "id": "ofirBK_Qd28F",
        "outputId": "10a6247d-0bd4-4358-d729-151f23d1278a"
      },
      "outputs": [
        {
          "data": {
            "text/plain": [
              "'y'"
            ]
          },
          "execution_count": 107,
          "metadata": {},
          "output_type": "execute_result"
        }
      ],
      "source": [
        "today[7]"
      ]
    },
    {
      "cell_type": "markdown",
      "metadata": {
        "id": "qJKRTRqud28H"
      },
      "source": [
        "You can access a part of a string using by providing a `start:end` range instead of a single index in `[]`."
      ]
    },
    {
      "cell_type": "code",
      "execution_count": null,
      "metadata": {
        "id": "QChccNBqd28J",
        "outputId": "20d257d5-913f-453b-ad9c-daaa20936ff7"
      },
      "outputs": [
        {
          "data": {
            "text/plain": [
              "'day'"
            ]
          },
          "execution_count": 108,
          "metadata": {},
          "output_type": "execute_result"
        }
      ],
      "source": [
        "today[5:8]"
      ]
    },
    {
      "cell_type": "markdown",
      "metadata": {
        "id": "TF8v51lcd28L"
      },
      "source": [
        "You can also check whether a string contains a some text using the `in` operator. "
      ]
    },
    {
      "cell_type": "code",
      "execution_count": null,
      "metadata": {
        "id": "WzGfcJ5yd28M",
        "outputId": "1aff9c5e-4a3b-4888-ac46-af203880ca1c"
      },
      "outputs": [
        {
          "data": {
            "text/plain": [
              "True"
            ]
          },
          "execution_count": 109,
          "metadata": {},
          "output_type": "execute_result"
        }
      ],
      "source": [
        "'day' in today"
      ]
    },
    {
      "cell_type": "code",
      "execution_count": null,
      "metadata": {
        "id": "XR_QaXEQd28O",
        "outputId": "4ce255e4-9c1c-4e3f-db85-716bd4c4d480"
      },
      "outputs": [
        {
          "data": {
            "text/plain": [
              "False"
            ]
          },
          "execution_count": 110,
          "metadata": {},
          "output_type": "execute_result"
        }
      ],
      "source": [
        "'Sun' in today"
      ]
    },
    {
      "cell_type": "markdown",
      "metadata": {
        "id": "5AAme0pYd28Q"
      },
      "source": [
        "Two or more strings can be joined or *concatenated* using the `+` operator. Be careful while concatenating strings, sometimes you may need to add a space character `\" \"` between words."
      ]
    },
    {
      "cell_type": "code",
      "execution_count": null,
      "metadata": {
        "id": "CA3nr4qHd28T"
      },
      "outputs": [],
      "source": [
        "full_name = \"Derek O'Brien\""
      ]
    },
    {
      "cell_type": "code",
      "execution_count": null,
      "metadata": {
        "id": "Az4BOl3ed28V"
      },
      "outputs": [],
      "source": [
        "greeting = \"Hello\""
      ]
    },
    {
      "cell_type": "code",
      "execution_count": null,
      "metadata": {
        "id": "QNjRbU8Pd28X",
        "outputId": "3d6d34a6-50d3-42e7-f9dc-0bc76136898f"
      },
      "outputs": [
        {
          "data": {
            "text/plain": [
              "\"HelloDerek O'Brien\""
            ]
          },
          "execution_count": 113,
          "metadata": {},
          "output_type": "execute_result"
        }
      ],
      "source": [
        "greeting + full_name"
      ]
    },
    {
      "cell_type": "code",
      "execution_count": null,
      "metadata": {
        "id": "uk8G-s_id28a",
        "outputId": "647f553c-9d88-4754-dba9-cfe6301effca"
      },
      "outputs": [
        {
          "data": {
            "text/plain": [
              "\"Hello Derek O'Brien!\""
            ]
          },
          "execution_count": 114,
          "metadata": {},
          "output_type": "execute_result"
        }
      ],
      "source": [
        "greeting + \" \" + full_name + \"!\" # additional space"
      ]
    },
    {
      "cell_type": "markdown",
      "metadata": {
        "id": "5oscMLncd28c"
      },
      "source": [
        "Strings in Python have many built-in *methods* that are used to manipulate them. Let's try out some common string methods.\n",
        "\n",
        "> **Methods**: Methods are functions associated with data types and are accessed using the `.` notation e.g. `variable_name.method()` or `\"a string\".method()`. Methods are a powerful technique for associating common operations with values of specific data types.\n",
        "\n",
        "The `.lower()`, `.upper()` and `.capitalize()` methods are used to change the case of the characters."
      ]
    },
    {
      "cell_type": "code",
      "execution_count": null,
      "metadata": {
        "id": "FdIHP_frd28e",
        "outputId": "d1d05389-0d58-4618-e236-0ab063e1596d"
      },
      "outputs": [
        {
          "data": {
            "text/plain": [
              "'saturday'"
            ]
          },
          "execution_count": 115,
          "metadata": {},
          "output_type": "execute_result"
        }
      ],
      "source": [
        "today.lower()"
      ]
    },
    {
      "cell_type": "code",
      "execution_count": null,
      "metadata": {
        "id": "lGxbQcyBd28g",
        "outputId": "7eb46547-2cff-4691-f486-bd9d37dc638a"
      },
      "outputs": [
        {
          "data": {
            "text/plain": [
              "'SATURDAY'"
            ]
          },
          "execution_count": 116,
          "metadata": {},
          "output_type": "execute_result"
        }
      ],
      "source": [
        "\"saturday\".upper()"
      ]
    },
    {
      "cell_type": "code",
      "execution_count": null,
      "metadata": {
        "id": "KPNr8qOjd28i",
        "outputId": "39d6a517-48a7-49cd-cd27-42e20165a175"
      },
      "outputs": [
        {
          "data": {
            "text/plain": [
              "'Monday'"
            ]
          },
          "execution_count": 117,
          "metadata": {},
          "output_type": "execute_result"
        }
      ],
      "source": [
        "\"monday\".capitalize() # changes first character to uppercase"
      ]
    },
    {
      "cell_type": "markdown",
      "metadata": {
        "id": "idx0X4Oyd28k"
      },
      "source": [
        "The `.replace` method replaces a part of the string with another string. It takes the portion to be replaced and the replacement text as *inputs* or *arguments*."
      ]
    },
    {
      "cell_type": "code",
      "execution_count": null,
      "metadata": {
        "id": "nixoKZ0ed28l"
      },
      "outputs": [],
      "source": [
        "another_day = today.replace(\"Satur\", \"Wednes\")"
      ]
    },
    {
      "cell_type": "code",
      "execution_count": null,
      "metadata": {
        "id": "0KBCBV5Hd28n",
        "outputId": "410e0b66-f4e2-4e1d-c95c-9de646e0bad5"
      },
      "outputs": [
        {
          "data": {
            "text/plain": [
              "'Wednesday'"
            ]
          },
          "execution_count": 119,
          "metadata": {},
          "output_type": "execute_result"
        }
      ],
      "source": [
        "another_day"
      ]
    },
    {
      "cell_type": "markdown",
      "metadata": {
        "id": "7mJuqdhQd28p"
      },
      "source": [
        "Note that `replace` returns a new string, and the original string is not modified."
      ]
    },
    {
      "cell_type": "code",
      "execution_count": null,
      "metadata": {
        "id": "mwKG-7rWd28r",
        "outputId": "f0556dfd-5e12-4e50-ec69-a24a0cb55995"
      },
      "outputs": [
        {
          "data": {
            "text/plain": [
              "'Saturday'"
            ]
          },
          "execution_count": 120,
          "metadata": {},
          "output_type": "execute_result"
        }
      ],
      "source": [
        "today"
      ]
    },
    {
      "cell_type": "markdown",
      "metadata": {
        "id": "J9M_P616d28t"
      },
      "source": [
        "The `.split` method splits a string into a list of strings at every occurrence of provided character(s)."
      ]
    },
    {
      "cell_type": "code",
      "execution_count": null,
      "metadata": {
        "id": "iDEs7CDWd28v",
        "outputId": "e140f18e-041e-40fb-f69e-176449aa3a32"
      },
      "outputs": [
        {
          "data": {
            "text/plain": [
              "['Sun', 'Mon', 'Tue', 'Wed', 'Thu', 'Fri', 'Sat']"
            ]
          },
          "execution_count": 121,
          "metadata": {},
          "output_type": "execute_result"
        }
      ],
      "source": [
        "\"Sun,Mon,Tue,Wed,Thu,Fri,Sat\".split(\",\")"
      ]
    },
    {
      "cell_type": "markdown",
      "metadata": {
        "id": "iRgu2Pemd28w"
      },
      "source": [
        "The `.strip` method removes whitespace characters from the beginning and end of a string."
      ]
    },
    {
      "cell_type": "code",
      "execution_count": null,
      "metadata": {
        "id": "kCTDendXd28x"
      },
      "outputs": [],
      "source": [
        "a_long_line = \"       This is a long line with some space before, after,     and some space in the middle..    \""
      ]
    },
    {
      "cell_type": "code",
      "execution_count": null,
      "metadata": {
        "id": "edG_iPvod28z"
      },
      "outputs": [],
      "source": [
        "a_long_line_stripped = a_long_line.strip()"
      ]
    },
    {
      "cell_type": "code",
      "execution_count": null,
      "metadata": {
        "id": "n4FVtqcdd280",
        "outputId": "ade91c37-2e7a-482c-8d70-73ea34f84c35"
      },
      "outputs": [
        {
          "data": {
            "text/plain": [
              "'This is a long line with some space before, after,     and some space in the middle..'"
            ]
          },
          "execution_count": 124,
          "metadata": {},
          "output_type": "execute_result"
        }
      ],
      "source": [
        "a_long_line_stripped"
      ]
    },
    {
      "cell_type": "markdown",
      "metadata": {
        "id": "OnMKoteBd281"
      },
      "source": [
        "The `.format` method combines values of other data types, e.g., integers, floats, booleans, lists, etc. with strings. You can use `format` to construct output messages for display."
      ]
    },
    {
      "cell_type": "code",
      "execution_count": null,
      "metadata": {
        "id": "lX1Ei4ttd282",
        "outputId": "e44359ad-1761-491f-fc1d-ce1d083ce8af"
      },
      "outputs": [
        {
          "name": "stdout",
          "output_type": "stream",
          "text": [
            "If a grocery store sells ice bags at $ {} per bag, with a profit margin of {} %, \n",
            "then the total profit it makes by selling {} ice bags is $ {}.\n"
          ]
        }
      ],
      "source": [
        "# Input variables\n",
        "cost_of_ice_bag = 1.25\n",
        "profit_margin = .2\n",
        "number_of_bags = 500\n",
        "\n",
        "# Template for output message\n",
        "output_template = \"\"\"If a grocery store sells ice bags at $ {} per bag, with a profit margin of {} %, \n",
        "then the total profit it makes by selling {} ice bags is $ {}.\"\"\"\n",
        "\n",
        "print(output_template)"
      ]
    },
    {
      "cell_type": "code",
      "execution_count": null,
      "metadata": {
        "id": "-zl7OK69d284",
        "outputId": "69cce5cd-1981-463e-8493-92e38418daf2"
      },
      "outputs": [
        {
          "name": "stdout",
          "output_type": "stream",
          "text": [
            "If a grocery store sells ice bags at $ 1.25 per bag, with a profit margin of 20.0 %, \n",
            "then the total profit it makes by selling 500 ice bags is $ 125.0.\n"
          ]
        }
      ],
      "source": [
        "# Inserting values into the string\n",
        "total_profit = cost_of_ice_bag * profit_margin * number_of_bags\n",
        "output_message = output_template.format(cost_of_ice_bag, profit_margin*100, number_of_bags, total_profit)\n",
        "\n",
        "print(output_message)"
      ]
    },
    {
      "cell_type": "markdown",
      "metadata": {
        "id": "Eq_IKfH0d286"
      },
      "source": [
        "Notice how the placeholders `{}` in the `output_template` string are replaced with the arguments provided to the `.format` method.\n",
        "\n",
        "It is also possible to use the string concatenation operator `+` to combine strings with other values. However, those values must first be converted to strings using the `str` function."
      ]
    },
    {
      "cell_type": "code",
      "execution_count": null,
      "metadata": {
        "id": "tGM7j1sLd287",
        "outputId": "ad26de35-daff-4500-f2a6-d68d0d5563a7"
      },
      "outputs": [
        {
          "ename": "TypeError",
          "evalue": "can only concatenate str (not \"float\") to str",
          "output_type": "error",
          "traceback": [
            "\u001b[0;31m---------------------------------------------------------------------------\u001b[0m",
            "\u001b[0;31mTypeError\u001b[0m                                 Traceback (most recent call last)",
            "\u001b[0;32m<ipython-input-127-78b7958ec7cc>\u001b[0m in \u001b[0;36m<module>\u001b[0;34m\u001b[0m\n\u001b[0;32m----> 1\u001b[0;31m \u001b[0;34m\"If a grocery store sells ice bags at $ \"\u001b[0m \u001b[0;34m+\u001b[0m \u001b[0mcost_of_ice_bag\u001b[0m \u001b[0;34m+\u001b[0m \u001b[0;34m\", with a profit margin of \"\u001b[0m \u001b[0;34m+\u001b[0m \u001b[0mprofit_margin\u001b[0m\u001b[0;34m\u001b[0m\u001b[0;34m\u001b[0m\u001b[0m\n\u001b[0m",
            "\u001b[0;31mTypeError\u001b[0m: can only concatenate str (not \"float\") to str"
          ]
        }
      ],
      "source": [
        "\"If a grocery store sells ice bags at $ \" + cost_of_ice_bag + \", with a profit margin of \" + profit_margin"
      ]
    },
    {
      "cell_type": "code",
      "execution_count": null,
      "metadata": {
        "id": "RPST4agUd289",
        "outputId": "b602670b-6dae-4ea7-8d3a-4cdd72b989bf"
      },
      "outputs": [
        {
          "data": {
            "text/plain": [
              "'If a grocery store sells ice bags at $ 1.25, with a profit margin of 0.2'"
            ]
          },
          "execution_count": 128,
          "metadata": {},
          "output_type": "execute_result"
        }
      ],
      "source": [
        "\"If a grocery store sells ice bags at $ \" + str(cost_of_ice_bag) + \", with a profit margin of \" + str(profit_margin)"
      ]
    },
    {
      "cell_type": "markdown",
      "metadata": {
        "id": "OD-4IfS1d28_"
      },
      "source": [
        "You can `str` to convert a value of any data type into a string."
      ]
    },
    {
      "cell_type": "code",
      "execution_count": null,
      "metadata": {
        "id": "9dqrL3oUd29B",
        "outputId": "cc3fc3c5-ecaf-4143-d1ac-4ef79332619f"
      },
      "outputs": [
        {
          "data": {
            "text/plain": [
              "'23'"
            ]
          },
          "execution_count": 129,
          "metadata": {},
          "output_type": "execute_result"
        }
      ],
      "source": [
        "str(23)"
      ]
    },
    {
      "cell_type": "code",
      "execution_count": null,
      "metadata": {
        "id": "q7hNvZPid29C",
        "outputId": "7dfd6202-fecf-4e92-a7ec-219de7646522"
      },
      "outputs": [
        {
          "data": {
            "text/plain": [
              "'23.432'"
            ]
          },
          "execution_count": 130,
          "metadata": {},
          "output_type": "execute_result"
        }
      ],
      "source": [
        "str(23.432)"
      ]
    },
    {
      "cell_type": "code",
      "execution_count": null,
      "metadata": {
        "id": "KNzlLm3Zd29E",
        "outputId": "8ee69a05-d0c2-46d5-fc29-6737f3c98e6f"
      },
      "outputs": [
        {
          "data": {
            "text/plain": [
              "'True'"
            ]
          },
          "execution_count": 131,
          "metadata": {},
          "output_type": "execute_result"
        }
      ],
      "source": [
        "str(True)"
      ]
    },
    {
      "cell_type": "code",
      "execution_count": null,
      "metadata": {
        "id": "5-nuZurad29F",
        "outputId": "e923b668-b9ef-4df2-b336-488600407396"
      },
      "outputs": [
        {
          "data": {
            "text/plain": [
              "\"['Athos', 'Porthos', 'Aramis']\""
            ]
          },
          "execution_count": 132,
          "metadata": {},
          "output_type": "execute_result"
        }
      ],
      "source": [
        "the_3_musketeers = [\"Athos\", \"Porthos\", \"Aramis\"]\n",
        "str(the_3_musketeers)"
      ]
    },
    {
      "cell_type": "markdown",
      "metadata": {
        "id": "Uz-1xCPFd29G"
      },
      "source": [
        "Note that all string methods return new values and DO NOT change the existing string. You can find a full list of string methods here: https://www.w3schools.com/python/python_ref_string.asp. "
      ]
    },
    {
      "cell_type": "markdown",
      "metadata": {
        "id": "ys71e8CVd29I"
      },
      "source": [
        "Strings also support the comparison operators `==` and `!=` for checking whether two strings are equal."
      ]
    },
    {
      "cell_type": "code",
      "execution_count": null,
      "metadata": {
        "id": "SFWn1RB3d29J"
      },
      "outputs": [],
      "source": [
        "first_name = \"John\""
      ]
    },
    {
      "cell_type": "code",
      "execution_count": null,
      "metadata": {
        "id": "HBMDCMXid29K",
        "outputId": "6696ebbf-e2e3-4387-e8c6-8ca9a65db00b"
      },
      "outputs": [
        {
          "data": {
            "text/plain": [
              "False"
            ]
          },
          "execution_count": 134,
          "metadata": {},
          "output_type": "execute_result"
        }
      ],
      "source": [
        "first_name == \"Doe\""
      ]
    },
    {
      "cell_type": "code",
      "execution_count": null,
      "metadata": {
        "id": "UdgAo6BKd29L",
        "outputId": "1bf0ee57-1fe7-4c28-be6d-bc867d1b70a4"
      },
      "outputs": [
        {
          "data": {
            "text/plain": [
              "True"
            ]
          },
          "execution_count": 135,
          "metadata": {},
          "output_type": "execute_result"
        }
      ],
      "source": [
        "first_name == \"John\""
      ]
    },
    {
      "cell_type": "code",
      "execution_count": null,
      "metadata": {
        "id": "pbq9H61Ud29M",
        "outputId": "77415ea5-fff4-4ff9-db26-59e9b3bb1125"
      },
      "outputs": [
        {
          "data": {
            "text/plain": [
              "True"
            ]
          },
          "execution_count": 136,
          "metadata": {},
          "output_type": "execute_result"
        }
      ],
      "source": [
        "first_name != \"Jane\""
      ]
    },
    {
      "cell_type": "markdown",
      "metadata": {
        "id": "RaQfJgYod29O"
      },
      "source": [
        "We've looked at the primitive data types in Python. We're now ready to explore non-primitive data structures, also known as containers.\n",
        "\n",
        "Before continuing, let us run `jovian.commit` once again to record another snapshot of our notebook."
      ]
    },
    {
      "cell_type": "code",
      "execution_count": null,
      "metadata": {
        "id": "LdIH7Jitd29P",
        "outputId": "b15e1dde-0fa3-4e20-88de-d4258d80c05d"
      },
      "outputs": [
        {
          "data": {
            "application/javascript": [
              "window.require && require([\"base/js/namespace\"],function(Jupyter){Jupyter.notebook.save_checkpoint()})"
            ],
            "text/plain": [
              "<IPython.core.display.Javascript object>"
            ]
          },
          "metadata": {},
          "output_type": "display_data"
        },
        {
          "name": "stdout",
          "output_type": "stream",
          "text": [
            "[jovian] Attempting to save notebook..\u001b[0m\n",
            "[jovian] Updating notebook \"samanvitha/python-variables-and-data-types\" on https://jovian.ai\u001b[0m\n",
            "[jovian] Uploading notebook..\u001b[0m\n",
            "[jovian] Uploading additional files...\u001b[0m\n",
            "[jovian] Committed successfully! https://jovian.ai/samanvitha/python-variables-and-data-types\u001b[0m\n"
          ]
        },
        {
          "data": {
            "text/plain": [
              "'https://jovian.ai/samanvitha/python-variables-and-data-types'"
            ]
          },
          "execution_count": 137,
          "metadata": {},
          "output_type": "execute_result"
        }
      ],
      "source": [
        "jovian.commit()"
      ]
    },
    {
      "cell_type": "markdown",
      "metadata": {
        "id": "c6DkzAFqd29Q"
      },
      "source": [
        "Running `jovian.commit` multiple times within a notebook records new versions automatically. You will continue to have access to all the previous versions of your notebook, using the versions dropdown on the notebook's Jovian."
      ]
    },
    {
      "cell_type": "markdown",
      "metadata": {
        "id": "_5vyWiozd29R"
      },
      "source": [
        "### List\n",
        "\n",
        "A list in Python is an ordered collection of values. Lists can hold values of different data types and support operations to add, remove, and change values. Lists have the type `list`.\n",
        "\n",
        "To create a list, enclose a sequence of values within square brackets `[` and `]`, separated by commas."
      ]
    },
    {
      "cell_type": "code",
      "execution_count": null,
      "metadata": {
        "id": "JzwnuoSvd29T"
      },
      "outputs": [],
      "source": [
        "fruits = ['apple', 'banana', 'cherry']"
      ]
    },
    {
      "cell_type": "code",
      "execution_count": null,
      "metadata": {
        "id": "mKl1EkPpd29U",
        "outputId": "2a8c1964-740a-4a1f-b2a2-3378012a5e31"
      },
      "outputs": [
        {
          "data": {
            "text/plain": [
              "['apple', 'banana', 'cherry']"
            ]
          },
          "execution_count": 139,
          "metadata": {},
          "output_type": "execute_result"
        }
      ],
      "source": [
        "fruits"
      ]
    },
    {
      "cell_type": "code",
      "execution_count": null,
      "metadata": {
        "id": "QipYArqWd29V",
        "outputId": "c4b5ef63-9cfc-4e19-ff10-f0efa8e2dee4"
      },
      "outputs": [
        {
          "data": {
            "text/plain": [
              "list"
            ]
          },
          "execution_count": 140,
          "metadata": {},
          "output_type": "execute_result"
        }
      ],
      "source": [
        "type(fruits)"
      ]
    },
    {
      "cell_type": "markdown",
      "metadata": {
        "id": "olyofCzrd29X"
      },
      "source": [
        "Let's try creating a list containing values of different data types, including another list."
      ]
    },
    {
      "cell_type": "code",
      "execution_count": null,
      "metadata": {
        "id": "50HDr_Sgd29Y"
      },
      "outputs": [],
      "source": [
        "a_list = [23, 'hello', None, 3.14, fruits, 3 <= 5]"
      ]
    },
    {
      "cell_type": "code",
      "execution_count": null,
      "metadata": {
        "id": "h5Pxahu3d29Z",
        "outputId": "64b9563b-7313-41a6-958c-7def12ed84ce"
      },
      "outputs": [
        {
          "data": {
            "text/plain": [
              "[23, 'hello', None, 3.14, ['apple', 'banana', 'cherry'], True]"
            ]
          },
          "execution_count": 142,
          "metadata": {},
          "output_type": "execute_result"
        }
      ],
      "source": [
        "a_list"
      ]
    },
    {
      "cell_type": "code",
      "execution_count": null,
      "metadata": {
        "id": "8RPh58NOd29b"
      },
      "outputs": [],
      "source": [
        "empty_list = []"
      ]
    },
    {
      "cell_type": "code",
      "execution_count": null,
      "metadata": {
        "id": "RtWQB7lBd29c",
        "outputId": "571d1f51-362f-4c52-9526-8ca271cf5396"
      },
      "outputs": [
        {
          "data": {
            "text/plain": [
              "[]"
            ]
          },
          "execution_count": 144,
          "metadata": {},
          "output_type": "execute_result"
        }
      ],
      "source": [
        "empty_list"
      ]
    },
    {
      "cell_type": "markdown",
      "metadata": {
        "id": "I6tHxmSEd29e"
      },
      "source": [
        "To determine the number of values in a list, use the `len` function. You can use `len`  to determine the number of values in several other data types."
      ]
    },
    {
      "cell_type": "code",
      "execution_count": null,
      "metadata": {
        "id": "prMK24qYd29f",
        "outputId": "47df082d-fdbe-4482-e9ab-5106c0ee823e"
      },
      "outputs": [
        {
          "data": {
            "text/plain": [
              "3"
            ]
          },
          "execution_count": 145,
          "metadata": {},
          "output_type": "execute_result"
        }
      ],
      "source": [
        "len(fruits)"
      ]
    },
    {
      "cell_type": "code",
      "execution_count": null,
      "metadata": {
        "id": "kvq9Vqs5d29h",
        "outputId": "c35d1b6b-8845-46c3-a1e8-1a80e7d77fcf"
      },
      "outputs": [
        {
          "name": "stdout",
          "output_type": "stream",
          "text": [
            "Number of fruits: 3\n"
          ]
        }
      ],
      "source": [
        "print(\"Number of fruits:\", len(fruits))"
      ]
    },
    {
      "cell_type": "code",
      "execution_count": null,
      "metadata": {
        "id": "NYrmoyNPd29j",
        "outputId": "29db7db5-aaed-4d65-d1fc-50ba813c9adb"
      },
      "outputs": [
        {
          "data": {
            "text/plain": [
              "6"
            ]
          },
          "execution_count": 147,
          "metadata": {},
          "output_type": "execute_result"
        }
      ],
      "source": [
        "len(a_list)"
      ]
    },
    {
      "cell_type": "code",
      "execution_count": null,
      "metadata": {
        "id": "wVyGksQpd29l",
        "outputId": "2bce171b-7014-457e-fd16-bb12e2e809a5"
      },
      "outputs": [
        {
          "data": {
            "text/plain": [
              "0"
            ]
          },
          "execution_count": 148,
          "metadata": {},
          "output_type": "execute_result"
        }
      ],
      "source": [
        "len(empty_list)"
      ]
    },
    {
      "cell_type": "markdown",
      "metadata": {
        "id": "3ptB_H7Kd29n"
      },
      "source": [
        "You can access an element from the list using its *index*, e.g., `fruits[2]` returns the element at index 2 within the list `fruits`. The starting index of a list is 0."
      ]
    },
    {
      "cell_type": "code",
      "execution_count": null,
      "metadata": {
        "id": "Nyr3hxChd29p",
        "outputId": "0af4fe7a-8326-4cb7-d2ad-c198387a02f4"
      },
      "outputs": [
        {
          "data": {
            "text/plain": [
              "'apple'"
            ]
          },
          "execution_count": 149,
          "metadata": {},
          "output_type": "execute_result"
        }
      ],
      "source": [
        "fruits[0]"
      ]
    },
    {
      "cell_type": "code",
      "execution_count": null,
      "metadata": {
        "id": "uUVRCmgId29r",
        "outputId": "65039763-72c2-4e51-864d-6675e5c8fd07"
      },
      "outputs": [
        {
          "data": {
            "text/plain": [
              "'banana'"
            ]
          },
          "execution_count": 150,
          "metadata": {},
          "output_type": "execute_result"
        }
      ],
      "source": [
        "fruits[1]"
      ]
    },
    {
      "cell_type": "code",
      "execution_count": null,
      "metadata": {
        "id": "O9tu26eod29s",
        "outputId": "7f9ed5ec-b3a6-4f8c-843b-201ad47d10d0"
      },
      "outputs": [
        {
          "data": {
            "text/plain": [
              "'cherry'"
            ]
          },
          "execution_count": 151,
          "metadata": {},
          "output_type": "execute_result"
        }
      ],
      "source": [
        "fruits[2]"
      ]
    },
    {
      "cell_type": "markdown",
      "metadata": {
        "id": "mATBmVdGd29u"
      },
      "source": [
        "If you try to access an index equal to or higher than the length of the list, Python returns an `IndexError`."
      ]
    },
    {
      "cell_type": "code",
      "execution_count": null,
      "metadata": {
        "id": "zTMbc8HHd29v",
        "outputId": "7245794a-972e-4796-e2f5-b833f39263b7"
      },
      "outputs": [
        {
          "ename": "IndexError",
          "evalue": "list index out of range",
          "output_type": "error",
          "traceback": [
            "\u001b[0;31m---------------------------------------------------------------------------\u001b[0m",
            "\u001b[0;31mIndexError\u001b[0m                                Traceback (most recent call last)",
            "\u001b[0;32m<ipython-input-152-7ceeafd384d7>\u001b[0m in \u001b[0;36m<module>\u001b[0;34m\u001b[0m\n\u001b[0;32m----> 1\u001b[0;31m \u001b[0mfruits\u001b[0m\u001b[0;34m[\u001b[0m\u001b[0;36m3\u001b[0m\u001b[0;34m]\u001b[0m\u001b[0;34m\u001b[0m\u001b[0;34m\u001b[0m\u001b[0m\n\u001b[0m",
            "\u001b[0;31mIndexError\u001b[0m: list index out of range"
          ]
        }
      ],
      "source": [
        "fruits[3]"
      ]
    },
    {
      "cell_type": "code",
      "execution_count": null,
      "metadata": {
        "id": "fYamNYvGd29w",
        "outputId": "50960abc-afaf-4029-e75c-c52508b16616"
      },
      "outputs": [
        {
          "ename": "IndexError",
          "evalue": "list index out of range",
          "output_type": "error",
          "traceback": [
            "\u001b[0;31m---------------------------------------------------------------------------\u001b[0m",
            "\u001b[0;31mIndexError\u001b[0m                                Traceback (most recent call last)",
            "\u001b[0;32m<ipython-input-153-b8c91da6ba3a>\u001b[0m in \u001b[0;36m<module>\u001b[0;34m\u001b[0m\n\u001b[0;32m----> 1\u001b[0;31m \u001b[0mfruits\u001b[0m\u001b[0;34m[\u001b[0m\u001b[0;36m4\u001b[0m\u001b[0;34m]\u001b[0m\u001b[0;34m\u001b[0m\u001b[0;34m\u001b[0m\u001b[0m\n\u001b[0m",
            "\u001b[0;31mIndexError\u001b[0m: list index out of range"
          ]
        }
      ],
      "source": [
        "fruits[4]"
      ]
    },
    {
      "cell_type": "markdown",
      "metadata": {
        "id": "663CjRRQd29y"
      },
      "source": [
        "You can use negative indices to access elements from the end of a list, e.g., `fruits[-1]` returns the last element, `fruits[-2]` returns the second last element, and so on."
      ]
    },
    {
      "cell_type": "code",
      "execution_count": null,
      "metadata": {
        "id": "JC1Pn9G7d29z",
        "outputId": "5a78884e-38d6-4c89-ec2f-8f19ebd73f13"
      },
      "outputs": [
        {
          "data": {
            "text/plain": [
              "'cherry'"
            ]
          },
          "execution_count": 154,
          "metadata": {},
          "output_type": "execute_result"
        }
      ],
      "source": [
        "fruits[-1]"
      ]
    },
    {
      "cell_type": "code",
      "execution_count": null,
      "metadata": {
        "id": "EtNLx8-nd290",
        "outputId": "bea7cf6c-079e-443b-d8fe-25db9d528162"
      },
      "outputs": [
        {
          "data": {
            "text/plain": [
              "'banana'"
            ]
          },
          "execution_count": 155,
          "metadata": {},
          "output_type": "execute_result"
        }
      ],
      "source": [
        "fruits[-2]"
      ]
    },
    {
      "cell_type": "code",
      "execution_count": null,
      "metadata": {
        "id": "25Nf60EYd291",
        "outputId": "4f2e4644-9309-4159-e942-0d96131e6517"
      },
      "outputs": [
        {
          "data": {
            "text/plain": [
              "'apple'"
            ]
          },
          "execution_count": 156,
          "metadata": {},
          "output_type": "execute_result"
        }
      ],
      "source": [
        "fruits[-3]"
      ]
    },
    {
      "cell_type": "code",
      "execution_count": null,
      "metadata": {
        "id": "TLz9Tw1Zd293",
        "outputId": "b40df6ff-5e8b-4429-b452-dfd6225ddab8"
      },
      "outputs": [
        {
          "ename": "IndexError",
          "evalue": "list index out of range",
          "output_type": "error",
          "traceback": [
            "\u001b[0;31m---------------------------------------------------------------------------\u001b[0m",
            "\u001b[0;31mIndexError\u001b[0m                                Traceback (most recent call last)",
            "\u001b[0;32m<ipython-input-157-1cb2d66442ee>\u001b[0m in \u001b[0;36m<module>\u001b[0;34m\u001b[0m\n\u001b[0;32m----> 1\u001b[0;31m \u001b[0mfruits\u001b[0m\u001b[0;34m[\u001b[0m\u001b[0;34m-\u001b[0m\u001b[0;36m4\u001b[0m\u001b[0;34m]\u001b[0m\u001b[0;34m\u001b[0m\u001b[0;34m\u001b[0m\u001b[0m\n\u001b[0m",
            "\u001b[0;31mIndexError\u001b[0m: list index out of range"
          ]
        }
      ],
      "source": [
        "fruits[-4]"
      ]
    },
    {
      "cell_type": "markdown",
      "metadata": {
        "id": "BO5RE9KFd294"
      },
      "source": [
        "You can also access a range of values from the list. The result is itself a list. Let us look at some examples."
      ]
    },
    {
      "cell_type": "code",
      "execution_count": null,
      "metadata": {
        "id": "GAGgdhj-d296"
      },
      "outputs": [],
      "source": [
        "a_list = [23, 'hello', None, 3.14, fruits, 3 <= 5]"
      ]
    },
    {
      "cell_type": "code",
      "execution_count": null,
      "metadata": {
        "id": "1-cBtloId297",
        "outputId": "e146788e-39bf-499c-e44a-bbfb95d9aecb"
      },
      "outputs": [
        {
          "data": {
            "text/plain": [
              "[23, 'hello', None, 3.14, ['apple', 'banana', 'cherry'], True]"
            ]
          },
          "execution_count": 159,
          "metadata": {},
          "output_type": "execute_result"
        }
      ],
      "source": [
        "a_list"
      ]
    },
    {
      "cell_type": "code",
      "execution_count": null,
      "metadata": {
        "id": "z1v6k3F1d298",
        "outputId": "2297e959-eece-465b-b658-287a86d57301"
      },
      "outputs": [
        {
          "data": {
            "text/plain": [
              "6"
            ]
          },
          "execution_count": 160,
          "metadata": {},
          "output_type": "execute_result"
        }
      ],
      "source": [
        "len(a_list)"
      ]
    },
    {
      "cell_type": "code",
      "execution_count": null,
      "metadata": {
        "id": "tWcGuP8Ed299",
        "outputId": "d9581192-ef23-4b37-98ec-d3c1fa568af3"
      },
      "outputs": [
        {
          "data": {
            "text/plain": [
              "[None, 3.14, ['apple', 'banana', 'cherry']]"
            ]
          },
          "execution_count": 161,
          "metadata": {},
          "output_type": "execute_result"
        }
      ],
      "source": [
        "a_list[2:5]"
      ]
    },
    {
      "cell_type": "markdown",
      "metadata": {
        "id": "KC96KdaRd29_"
      },
      "source": [
        "Note that the range `2:5` includes the element at the start index `2` but does not include the element at the end index `5`. So, the result has 3 values (index `2`, `3`, and `4`).\n",
        "\n",
        "Here are some experiments you should try out (use the empty cells below):\n",
        "\n",
        "* Try setting one or both indices of the range are larger than the size of the list, e.g., `a_list[2:10]`\n",
        "* Try setting the start index of the range to be larger than the end index, e.g., `a_list[12:10]`\n",
        "* Try leaving out the start or end index of a range, e.g., `a_list[2:]` or `a_list[:5]`\n",
        "* Try using negative indices for the range, e.g., `a_list[-2:-5]` or `a_list[-5:-2]` (can you explain the results?)\n",
        "\n",
        "> The flexible and interactive nature of Jupyter notebooks makes them an excellent tool for learning and experimentation. If you are new to Python, you can resolve most questions as soon as they arise simply by typing the code into a cell and executing it. Let your curiosity run wild, discover what Python is capable of and what it isn't! "
      ]
    },
    {
      "cell_type": "code",
      "execution_count": null,
      "metadata": {
        "id": "WQAdZCi0d2-B"
      },
      "outputs": [],
      "source": []
    },
    {
      "cell_type": "code",
      "execution_count": null,
      "metadata": {
        "id": "q_rx9J3Ud2-C"
      },
      "outputs": [],
      "source": []
    },
    {
      "cell_type": "code",
      "execution_count": null,
      "metadata": {
        "id": "6fH9T3KXd2-P"
      },
      "outputs": [],
      "source": []
    },
    {
      "cell_type": "code",
      "execution_count": null,
      "metadata": {
        "id": "XKxcwKWMd2-P"
      },
      "outputs": [],
      "source": []
    },
    {
      "cell_type": "markdown",
      "metadata": {
        "id": "uHV8pX8Sd2-Q"
      },
      "source": [
        "You can also change the value at a specific index within a list using the assignment operation."
      ]
    },
    {
      "cell_type": "code",
      "execution_count": null,
      "metadata": {
        "id": "3xBVDjYgd2-R",
        "outputId": "3754419a-d307-47cb-a45a-af31268f2c2a"
      },
      "outputs": [
        {
          "data": {
            "text/plain": [
              "['apple', 'banana', 'cherry']"
            ]
          },
          "execution_count": 162,
          "metadata": {},
          "output_type": "execute_result"
        }
      ],
      "source": [
        "fruits"
      ]
    },
    {
      "cell_type": "code",
      "execution_count": null,
      "metadata": {
        "id": "SYatff6Hd2-S"
      },
      "outputs": [],
      "source": [
        "fruits[1] = 'blueberry'"
      ]
    },
    {
      "cell_type": "code",
      "execution_count": null,
      "metadata": {
        "id": "tvV_NUVQd2-T",
        "outputId": "a5a3b87c-e327-4a99-d23f-bcea2de46aed"
      },
      "outputs": [
        {
          "data": {
            "text/plain": [
              "['apple', 'blueberry', 'cherry']"
            ]
          },
          "execution_count": 164,
          "metadata": {},
          "output_type": "execute_result"
        }
      ],
      "source": [
        "fruits"
      ]
    },
    {
      "cell_type": "markdown",
      "metadata": {
        "id": "slKzml-od2-V"
      },
      "source": [
        "A new value can be added to the end of a list using the `append` method."
      ]
    },
    {
      "cell_type": "code",
      "execution_count": null,
      "metadata": {
        "id": "PnQ4KrWsd2-W"
      },
      "outputs": [],
      "source": [
        "fruits.append('dates')"
      ]
    },
    {
      "cell_type": "code",
      "execution_count": null,
      "metadata": {
        "id": "VrGdhY4Ed2-X",
        "outputId": "4b68cd16-5763-4e3e-8259-6f91d97c3f85"
      },
      "outputs": [
        {
          "data": {
            "text/plain": [
              "['apple', 'blueberry', 'cherry', 'dates']"
            ]
          },
          "execution_count": 166,
          "metadata": {},
          "output_type": "execute_result"
        }
      ],
      "source": [
        "fruits"
      ]
    },
    {
      "cell_type": "markdown",
      "metadata": {
        "id": "1C-tNVtid2-Z"
      },
      "source": [
        "A new value can also be inserted at a specific index using the `insert` method."
      ]
    },
    {
      "cell_type": "code",
      "execution_count": null,
      "metadata": {
        "id": "IVI4ZLYvd2-a"
      },
      "outputs": [],
      "source": [
        "fruits.insert(1, 'banana')"
      ]
    },
    {
      "cell_type": "code",
      "execution_count": null,
      "metadata": {
        "id": "b8FZjOcUd2-b",
        "outputId": "88edbe87-5852-40c4-ca25-b7e90e8e4d66"
      },
      "outputs": [
        {
          "data": {
            "text/plain": [
              "['apple', 'banana', 'blueberry', 'cherry', 'dates']"
            ]
          },
          "execution_count": 168,
          "metadata": {},
          "output_type": "execute_result"
        }
      ],
      "source": [
        "fruits"
      ]
    },
    {
      "cell_type": "markdown",
      "metadata": {
        "id": "UH334IfVd2-c"
      },
      "source": [
        "You can remove a value from a list using the `remove` method."
      ]
    },
    {
      "cell_type": "code",
      "execution_count": null,
      "metadata": {
        "id": "8mc-79Ppd2-d"
      },
      "outputs": [],
      "source": [
        "fruits.remove('blueberry')"
      ]
    },
    {
      "cell_type": "code",
      "execution_count": null,
      "metadata": {
        "id": "BMVYJyCHd2-e",
        "outputId": "d8511323-70d2-44f4-a4ef-1bcf45349d07"
      },
      "outputs": [
        {
          "data": {
            "text/plain": [
              "['apple', 'banana', 'cherry', 'dates']"
            ]
          },
          "execution_count": 170,
          "metadata": {},
          "output_type": "execute_result"
        }
      ],
      "source": [
        "fruits"
      ]
    },
    {
      "cell_type": "markdown",
      "metadata": {
        "id": "KN0Ve4tCd2-g"
      },
      "source": [
        "What happens if a list has multiple instances of the value passed to `.remove`? Try it out."
      ]
    },
    {
      "cell_type": "code",
      "execution_count": null,
      "metadata": {
        "id": "INOfP-Fgd2-h"
      },
      "outputs": [],
      "source": []
    },
    {
      "cell_type": "code",
      "execution_count": null,
      "metadata": {
        "id": "fO8p2RJnd2-i"
      },
      "outputs": [],
      "source": []
    },
    {
      "cell_type": "markdown",
      "metadata": {
        "id": "7cLqN0AFd2-i"
      },
      "source": [
        "To remove an element from a specific index, use the `pop` method. The method also returns the removed element."
      ]
    },
    {
      "cell_type": "code",
      "execution_count": null,
      "metadata": {
        "id": "loRVlSJSd2-j",
        "outputId": "477d51c5-1cba-4bc1-bab0-4f0548b6cecc"
      },
      "outputs": [
        {
          "data": {
            "text/plain": [
              "['apple', 'banana', 'cherry', 'dates']"
            ]
          },
          "execution_count": 171,
          "metadata": {},
          "output_type": "execute_result"
        }
      ],
      "source": [
        "fruits"
      ]
    },
    {
      "cell_type": "code",
      "execution_count": null,
      "metadata": {
        "id": "9k3e6w51d2-l",
        "outputId": "5999b2d8-a960-4f1e-ac59-aafa010b9793"
      },
      "outputs": [
        {
          "data": {
            "text/plain": [
              "'banana'"
            ]
          },
          "execution_count": 172,
          "metadata": {},
          "output_type": "execute_result"
        }
      ],
      "source": [
        "fruits.pop(1)"
      ]
    },
    {
      "cell_type": "code",
      "execution_count": null,
      "metadata": {
        "id": "W-JaZAv0d2-m",
        "outputId": "82c05523-2e81-4d1a-cc40-d8e2cbb2f7be"
      },
      "outputs": [
        {
          "data": {
            "text/plain": [
              "['apple', 'cherry', 'dates']"
            ]
          },
          "execution_count": 173,
          "metadata": {},
          "output_type": "execute_result"
        }
      ],
      "source": [
        "fruits"
      ]
    },
    {
      "cell_type": "markdown",
      "metadata": {
        "id": "VwyA5Cz0d2-o"
      },
      "source": [
        "If no index is provided, the `pop` method removes the last element of the list."
      ]
    },
    {
      "cell_type": "code",
      "execution_count": null,
      "metadata": {
        "id": "0bAhtz8dd2-p",
        "outputId": "9e425936-5a07-419a-89da-4be5cf8f9e37"
      },
      "outputs": [
        {
          "data": {
            "text/plain": [
              "'dates'"
            ]
          },
          "execution_count": 174,
          "metadata": {},
          "output_type": "execute_result"
        }
      ],
      "source": [
        "fruits.pop()"
      ]
    },
    {
      "cell_type": "code",
      "execution_count": null,
      "metadata": {
        "id": "OpeeEum6d2-q",
        "outputId": "0d10019e-3638-47b2-fc99-cd24cd1d007f"
      },
      "outputs": [
        {
          "data": {
            "text/plain": [
              "['apple', 'cherry']"
            ]
          },
          "execution_count": 175,
          "metadata": {},
          "output_type": "execute_result"
        }
      ],
      "source": [
        "fruits"
      ]
    },
    {
      "cell_type": "markdown",
      "metadata": {
        "id": "XiLVYb36d2-s"
      },
      "source": [
        "You can test whether a list contains a value using the `in` operator."
      ]
    },
    {
      "cell_type": "code",
      "execution_count": null,
      "metadata": {
        "id": "tuGg6BPyd2-t",
        "outputId": "6e528f37-9409-44f8-81e1-c45c6823abe9"
      },
      "outputs": [
        {
          "data": {
            "text/plain": [
              "False"
            ]
          },
          "execution_count": 176,
          "metadata": {},
          "output_type": "execute_result"
        }
      ],
      "source": [
        "'pineapple' in fruits"
      ]
    },
    {
      "cell_type": "code",
      "execution_count": null,
      "metadata": {
        "id": "P_kirp_0d2-u",
        "outputId": "47352040-196c-4e87-bf8c-23c3a4a12475"
      },
      "outputs": [
        {
          "data": {
            "text/plain": [
              "True"
            ]
          },
          "execution_count": 177,
          "metadata": {},
          "output_type": "execute_result"
        }
      ],
      "source": [
        "'cherry' in fruits"
      ]
    },
    {
      "cell_type": "markdown",
      "metadata": {
        "id": "XREla4GBd2-w"
      },
      "source": [
        "To combine two or more lists, use the `+` operator. This operation is also called *concatenation*."
      ]
    },
    {
      "cell_type": "code",
      "execution_count": null,
      "metadata": {
        "id": "c2L2lnkjd2-x",
        "outputId": "b03253fe-bf63-4bed-e253-0684c18eb67e"
      },
      "outputs": [
        {
          "data": {
            "text/plain": [
              "['apple', 'cherry']"
            ]
          },
          "execution_count": 178,
          "metadata": {},
          "output_type": "execute_result"
        }
      ],
      "source": [
        "fruits"
      ]
    },
    {
      "cell_type": "code",
      "execution_count": null,
      "metadata": {
        "id": "e_9Hsw4Md2-y"
      },
      "outputs": [],
      "source": [
        "more_fruits = fruits + ['pineapple', 'tomato', 'guava'] + ['dates', 'banana']"
      ]
    },
    {
      "cell_type": "code",
      "execution_count": null,
      "metadata": {
        "id": "DlTc8Emtd2-0",
        "outputId": "a1b5945b-76c2-4688-f940-3d6f9a5b6975"
      },
      "outputs": [
        {
          "data": {
            "text/plain": [
              "['apple', 'cherry', 'pineapple', 'tomato', 'guava', 'dates', 'banana']"
            ]
          },
          "execution_count": 180,
          "metadata": {},
          "output_type": "execute_result"
        }
      ],
      "source": [
        "more_fruits"
      ]
    },
    {
      "cell_type": "markdown",
      "metadata": {
        "id": "77c5IXfed2-1"
      },
      "source": [
        "To create a copy of a list, use the `copy` method. Modifying the copied list does not affect the original."
      ]
    },
    {
      "cell_type": "code",
      "execution_count": null,
      "metadata": {
        "id": "M_8D-OSwd2-3"
      },
      "outputs": [],
      "source": [
        "more_fruits_copy = more_fruits.copy()"
      ]
    },
    {
      "cell_type": "code",
      "execution_count": null,
      "metadata": {
        "id": "kxkxWVqtd2-4",
        "outputId": "126e90d6-8bc0-4a40-c62b-37bd55daca51"
      },
      "outputs": [
        {
          "data": {
            "text/plain": [
              "['apple', 'cherry', 'pineapple', 'tomato', 'guava', 'dates', 'banana']"
            ]
          },
          "execution_count": 182,
          "metadata": {},
          "output_type": "execute_result"
        }
      ],
      "source": [
        "more_fruits_copy"
      ]
    },
    {
      "cell_type": "code",
      "execution_count": null,
      "metadata": {
        "id": "pXhd3Hzzd2-5",
        "outputId": "bb628a0b-4e87-46a1-baeb-77c229ed3b56"
      },
      "outputs": [
        {
          "data": {
            "text/plain": [
              "['apple', 'cherry', 'tomato', 'guava', 'dates']"
            ]
          },
          "execution_count": 183,
          "metadata": {},
          "output_type": "execute_result"
        }
      ],
      "source": [
        "# Modify the copy\n",
        "more_fruits_copy.remove('pineapple')\n",
        "more_fruits_copy.pop()\n",
        "more_fruits_copy"
      ]
    },
    {
      "cell_type": "code",
      "execution_count": null,
      "metadata": {
        "id": "bQHy_auCd2-7",
        "outputId": "db53716a-4c74-4796-b539-aa01d2f26c54"
      },
      "outputs": [
        {
          "data": {
            "text/plain": [
              "['apple', 'cherry', 'pineapple', 'tomato', 'guava', 'dates', 'banana']"
            ]
          },
          "execution_count": 184,
          "metadata": {},
          "output_type": "execute_result"
        }
      ],
      "source": [
        "# Original list remains unchanged\n",
        "more_fruits"
      ]
    },
    {
      "cell_type": "markdown",
      "metadata": {
        "id": "Sksbh2ktd2-9"
      },
      "source": [
        "Note that you cannot create a copy of a list by simply creating a new variable using the assignment operator `=`. The new variable will point to the same list, and any modifications performed using either variable will affect the other."
      ]
    },
    {
      "cell_type": "code",
      "execution_count": null,
      "metadata": {
        "id": "kDBVCC0Xd2--",
        "outputId": "91edb6c9-ed3a-4aa2-d95f-a5ba91f4492e"
      },
      "outputs": [
        {
          "data": {
            "text/plain": [
              "['apple', 'cherry', 'pineapple', 'tomato', 'guava', 'dates', 'banana']"
            ]
          },
          "execution_count": 185,
          "metadata": {},
          "output_type": "execute_result"
        }
      ],
      "source": [
        "more_fruits"
      ]
    },
    {
      "cell_type": "code",
      "execution_count": null,
      "metadata": {
        "id": "jhCYM8Rwd2-_"
      },
      "outputs": [],
      "source": [
        "more_fruits_not_a_copy = more_fruits"
      ]
    },
    {
      "cell_type": "code",
      "execution_count": null,
      "metadata": {
        "id": "gqivHmgrd2_A",
        "outputId": "8115ac7d-499f-4560-e69d-d5b71e9d7210"
      },
      "outputs": [
        {
          "data": {
            "text/plain": [
              "'banana'"
            ]
          },
          "execution_count": 187,
          "metadata": {},
          "output_type": "execute_result"
        }
      ],
      "source": [
        "more_fruits_not_a_copy.remove('pineapple')\n",
        "more_fruits_not_a_copy.pop()"
      ]
    },
    {
      "cell_type": "code",
      "execution_count": null,
      "metadata": {
        "id": "Zn2wwbTbd2_C",
        "outputId": "011fed43-4997-45ad-f2f6-7ce5fc0b8d5f"
      },
      "outputs": [
        {
          "data": {
            "text/plain": [
              "['apple', 'cherry', 'tomato', 'guava', 'dates']"
            ]
          },
          "execution_count": 188,
          "metadata": {},
          "output_type": "execute_result"
        }
      ],
      "source": [
        "more_fruits_not_a_copy"
      ]
    },
    {
      "cell_type": "code",
      "execution_count": null,
      "metadata": {
        "id": "a81nmimkd2_D",
        "outputId": "4257105b-f864-46c5-8a99-c3a93ae748a2"
      },
      "outputs": [
        {
          "data": {
            "text/plain": [
              "['apple', 'cherry', 'tomato', 'guava', 'dates']"
            ]
          },
          "execution_count": 189,
          "metadata": {},
          "output_type": "execute_result"
        }
      ],
      "source": [
        "more_fruits"
      ]
    },
    {
      "cell_type": "markdown",
      "metadata": {
        "id": "hNu5uiwcd2_F"
      },
      "source": [
        "Just like strings, there are several in-built methods to manipulate a list. However, unlike strings, most list methods modify the original list rather than returning a new one. Check out some common list operations here: https://www.w3schools.com/python/python_ref_list.asp .\n",
        "\n",
        "\n",
        "Following are some exercises you can try out with list methods (use the blank code cells below):\n",
        "\n",
        "* Reverse the order of elements in a list\n",
        "* Add the elements of one list at the end of another list\n",
        "* Sort a list of strings in alphabetical order\n",
        "* Sort a list of numbers in decreasing order"
      ]
    },
    {
      "cell_type": "code",
      "execution_count": null,
      "metadata": {
        "id": "TGEfRVErd2_G"
      },
      "outputs": [],
      "source": []
    },
    {
      "cell_type": "code",
      "execution_count": null,
      "metadata": {
        "id": "W6-Pmm1yd2_H"
      },
      "outputs": [],
      "source": []
    },
    {
      "cell_type": "code",
      "execution_count": null,
      "metadata": {
        "id": "lkNvqDWfd2_I"
      },
      "outputs": [],
      "source": []
    },
    {
      "cell_type": "code",
      "execution_count": null,
      "metadata": {
        "id": "xBnK0TVad2_J"
      },
      "outputs": [],
      "source": []
    },
    {
      "cell_type": "markdown",
      "metadata": {
        "id": "pKRDzsEod2_K"
      },
      "source": [
        "### Tuple\n",
        "\n",
        "A tuple is an ordered collection of values, similar to a list. However, it is not possible to add, remove, or modify values in a tuple. A tuple is created by enclosing values within parentheses `(` and `)`, separated by commas.\n",
        "\n",
        "> Any data structure that cannot be modified after creation is called *immutable*. You can think of tuples as immutable lists.\n",
        "\n",
        "Let's try some experiments with tuples."
      ]
    },
    {
      "cell_type": "code",
      "execution_count": null,
      "metadata": {
        "id": "BVu3gyyid2_L"
      },
      "outputs": [],
      "source": [
        "fruits = ('apple', 'cherry', 'dates')"
      ]
    },
    {
      "cell_type": "code",
      "execution_count": null,
      "metadata": {
        "id": "_MGrIPped2_N",
        "outputId": "392df29b-27b4-4d54-826c-74b3861c9e36"
      },
      "outputs": [
        {
          "data": {
            "text/plain": [
              "3"
            ]
          },
          "execution_count": 191,
          "metadata": {},
          "output_type": "execute_result"
        }
      ],
      "source": [
        "# check no. of elements\n",
        "len(fruits)"
      ]
    },
    {
      "cell_type": "code",
      "execution_count": null,
      "metadata": {
        "id": "MsfZIEtAd2_O",
        "outputId": "78372bb7-e505-4fcd-ac24-8b71966f1cac"
      },
      "outputs": [
        {
          "data": {
            "text/plain": [
              "'apple'"
            ]
          },
          "execution_count": 192,
          "metadata": {},
          "output_type": "execute_result"
        }
      ],
      "source": [
        "# get an element (positive index)\n",
        "fruits[0]"
      ]
    },
    {
      "cell_type": "code",
      "execution_count": null,
      "metadata": {
        "id": "0vaRKU5ed2_Q",
        "outputId": "59b9cc00-c549-48cc-946d-c78861d416d9"
      },
      "outputs": [
        {
          "data": {
            "text/plain": [
              "'cherry'"
            ]
          },
          "execution_count": 193,
          "metadata": {},
          "output_type": "execute_result"
        }
      ],
      "source": [
        "# get an element (negative index)\n",
        "fruits[-2]"
      ]
    },
    {
      "cell_type": "code",
      "execution_count": null,
      "metadata": {
        "id": "7VlZYhh_d2_R",
        "outputId": "e8d3953f-10a9-420f-8617-da308f8bd0c9"
      },
      "outputs": [
        {
          "data": {
            "text/plain": [
              "True"
            ]
          },
          "execution_count": 194,
          "metadata": {},
          "output_type": "execute_result"
        }
      ],
      "source": [
        "# check if it contains an element\n",
        "'dates' in fruits"
      ]
    },
    {
      "cell_type": "code",
      "execution_count": null,
      "metadata": {
        "id": "kyjW2o9fd2_T",
        "outputId": "f9a76e92-df62-4549-e3c0-42834b293c31"
      },
      "outputs": [
        {
          "ename": "TypeError",
          "evalue": "'tuple' object does not support item assignment",
          "output_type": "error",
          "traceback": [
            "\u001b[0;31m---------------------------------------------------------------------------\u001b[0m",
            "\u001b[0;31mTypeError\u001b[0m                                 Traceback (most recent call last)",
            "\u001b[0;32m<ipython-input-195-eea1d48cc8b5>\u001b[0m in \u001b[0;36m<module>\u001b[0;34m\u001b[0m\n\u001b[1;32m      1\u001b[0m \u001b[0;31m# try to change an element\u001b[0m\u001b[0;34m\u001b[0m\u001b[0;34m\u001b[0m\u001b[0;34m\u001b[0m\u001b[0m\n\u001b[0;32m----> 2\u001b[0;31m \u001b[0mfruits\u001b[0m\u001b[0;34m[\u001b[0m\u001b[0;36m0\u001b[0m\u001b[0;34m]\u001b[0m \u001b[0;34m=\u001b[0m \u001b[0;34m'avocado'\u001b[0m\u001b[0;34m\u001b[0m\u001b[0;34m\u001b[0m\u001b[0m\n\u001b[0m",
            "\u001b[0;31mTypeError\u001b[0m: 'tuple' object does not support item assignment"
          ]
        }
      ],
      "source": [
        "# try to change an element\n",
        "fruits[0] = 'avocado'"
      ]
    },
    {
      "cell_type": "code",
      "execution_count": null,
      "metadata": {
        "id": "O-grZhljd2_U",
        "outputId": "eee90dc5-374f-45f7-ba03-283c07f7015c"
      },
      "outputs": [
        {
          "ename": "AttributeError",
          "evalue": "'tuple' object has no attribute 'append'",
          "output_type": "error",
          "traceback": [
            "\u001b[0;31m---------------------------------------------------------------------------\u001b[0m",
            "\u001b[0;31mAttributeError\u001b[0m                            Traceback (most recent call last)",
            "\u001b[0;32m<ipython-input-196-e5ea20adaaf8>\u001b[0m in \u001b[0;36m<module>\u001b[0;34m\u001b[0m\n\u001b[1;32m      1\u001b[0m \u001b[0;31m# try to append an element\u001b[0m\u001b[0;34m\u001b[0m\u001b[0;34m\u001b[0m\u001b[0;34m\u001b[0m\u001b[0m\n\u001b[0;32m----> 2\u001b[0;31m \u001b[0mfruits\u001b[0m\u001b[0;34m.\u001b[0m\u001b[0mappend\u001b[0m\u001b[0;34m(\u001b[0m\u001b[0;34m'blueberry'\u001b[0m\u001b[0;34m)\u001b[0m\u001b[0;34m\u001b[0m\u001b[0;34m\u001b[0m\u001b[0m\n\u001b[0m",
            "\u001b[0;31mAttributeError\u001b[0m: 'tuple' object has no attribute 'append'"
          ]
        }
      ],
      "source": [
        "# try to append an element\n",
        "fruits.append('blueberry')"
      ]
    },
    {
      "cell_type": "code",
      "execution_count": null,
      "metadata": {
        "id": "ZV3r4TQid2_W",
        "outputId": "a652f1e7-b828-4cf7-c2d8-5e60251d8652"
      },
      "outputs": [
        {
          "ename": "AttributeError",
          "evalue": "'tuple' object has no attribute 'remove'",
          "output_type": "error",
          "traceback": [
            "\u001b[0;31m---------------------------------------------------------------------------\u001b[0m",
            "\u001b[0;31mAttributeError\u001b[0m                            Traceback (most recent call last)",
            "\u001b[0;32m<ipython-input-197-37543d45b6b4>\u001b[0m in \u001b[0;36m<module>\u001b[0;34m\u001b[0m\n\u001b[1;32m      1\u001b[0m \u001b[0;31m# try to remove an element\u001b[0m\u001b[0;34m\u001b[0m\u001b[0;34m\u001b[0m\u001b[0;34m\u001b[0m\u001b[0m\n\u001b[0;32m----> 2\u001b[0;31m \u001b[0mfruits\u001b[0m\u001b[0;34m.\u001b[0m\u001b[0mremove\u001b[0m\u001b[0;34m(\u001b[0m\u001b[0;34m'apple'\u001b[0m\u001b[0;34m)\u001b[0m\u001b[0;34m\u001b[0m\u001b[0;34m\u001b[0m\u001b[0m\n\u001b[0m",
            "\u001b[0;31mAttributeError\u001b[0m: 'tuple' object has no attribute 'remove'"
          ]
        }
      ],
      "source": [
        "# try to remove an element\n",
        "fruits.remove('apple')"
      ]
    },
    {
      "cell_type": "markdown",
      "metadata": {
        "id": "OQvDWK5Pd2_X"
      },
      "source": [
        "You can also skip the parantheses `(` and `)` while creating a tuple. Python automatically converts comma-separated values into a tuple."
      ]
    },
    {
      "cell_type": "code",
      "execution_count": null,
      "metadata": {
        "id": "OeZBeX6Pd2_Z"
      },
      "outputs": [],
      "source": [
        "the_3_musketeers = 'Athos', 'Porthos', 'Aramis'"
      ]
    },
    {
      "cell_type": "code",
      "execution_count": null,
      "metadata": {
        "id": "JWimX-uWd2_a",
        "outputId": "d7f8542f-8e59-4ef4-f5e6-8d7ec5f45704"
      },
      "outputs": [
        {
          "data": {
            "text/plain": [
              "('Athos', 'Porthos', 'Aramis')"
            ]
          },
          "execution_count": 199,
          "metadata": {},
          "output_type": "execute_result"
        }
      ],
      "source": [
        "the_3_musketeers"
      ]
    },
    {
      "cell_type": "markdown",
      "metadata": {
        "id": "7pTh_Cgid2_b"
      },
      "source": [
        "You can also create a tuple with just one element by typing a comma after it. Just wrapping it with parentheses `(` and `)` won't make it a tuple."
      ]
    },
    {
      "cell_type": "code",
      "execution_count": null,
      "metadata": {
        "id": "XlDnAPpxd2_d"
      },
      "outputs": [],
      "source": [
        "single_element_tuple = 4,"
      ]
    },
    {
      "cell_type": "code",
      "execution_count": null,
      "metadata": {
        "id": "Ph09fiS9d2_e",
        "outputId": "3c5236c5-dd0f-490d-d0a2-0ac91e1ba5c3"
      },
      "outputs": [
        {
          "data": {
            "text/plain": [
              "(4,)"
            ]
          },
          "execution_count": 201,
          "metadata": {},
          "output_type": "execute_result"
        }
      ],
      "source": [
        "single_element_tuple"
      ]
    },
    {
      "cell_type": "code",
      "execution_count": null,
      "metadata": {
        "id": "yvlzdZfJd2_f"
      },
      "outputs": [],
      "source": [
        "another_single_element_tuple = (4,)"
      ]
    },
    {
      "cell_type": "code",
      "execution_count": null,
      "metadata": {
        "id": "ab3GF2cTd2_g",
        "outputId": "6f934e99-ee74-4654-9421-bdad35882f6e"
      },
      "outputs": [
        {
          "data": {
            "text/plain": [
              "(4,)"
            ]
          },
          "execution_count": 203,
          "metadata": {},
          "output_type": "execute_result"
        }
      ],
      "source": [
        "another_single_element_tuple"
      ]
    },
    {
      "cell_type": "code",
      "execution_count": null,
      "metadata": {
        "id": "ydjBO_BFd2_i"
      },
      "outputs": [],
      "source": [
        "not_a_tuple = (4)"
      ]
    },
    {
      "cell_type": "code",
      "execution_count": null,
      "metadata": {
        "id": "uYHCD6Axd2_j",
        "outputId": "164ae7bb-badf-462b-ea09-7e152b5fe93a"
      },
      "outputs": [
        {
          "data": {
            "text/plain": [
              "4"
            ]
          },
          "execution_count": 205,
          "metadata": {},
          "output_type": "execute_result"
        }
      ],
      "source": [
        "not_a_tuple"
      ]
    },
    {
      "cell_type": "markdown",
      "metadata": {
        "id": "PAs_woY0d2_k"
      },
      "source": [
        "Tuples are often used to create multiple variables with a single statement."
      ]
    },
    {
      "cell_type": "code",
      "execution_count": null,
      "metadata": {
        "id": "t4kbjjnud2_l"
      },
      "outputs": [],
      "source": [
        "point = (3, 4)"
      ]
    },
    {
      "cell_type": "code",
      "execution_count": null,
      "metadata": {
        "id": "HZcVd1BUd2_n"
      },
      "outputs": [],
      "source": [
        "point_x, point_y = point"
      ]
    },
    {
      "cell_type": "code",
      "execution_count": null,
      "metadata": {
        "id": "6F4a20M9d2_o",
        "outputId": "72d63c1d-becd-4348-8e08-fd07b5c6bf80"
      },
      "outputs": [
        {
          "data": {
            "text/plain": [
              "3"
            ]
          },
          "execution_count": 208,
          "metadata": {},
          "output_type": "execute_result"
        }
      ],
      "source": [
        "point_x"
      ]
    },
    {
      "cell_type": "code",
      "execution_count": null,
      "metadata": {
        "id": "zSD-ufQod2_p",
        "outputId": "e86589cb-0343-42bf-8257-4d1f4e842762"
      },
      "outputs": [
        {
          "data": {
            "text/plain": [
              "4"
            ]
          },
          "execution_count": 209,
          "metadata": {},
          "output_type": "execute_result"
        }
      ],
      "source": [
        "point_y"
      ]
    },
    {
      "cell_type": "markdown",
      "metadata": {
        "id": "ZiEZ5bt8d2_q"
      },
      "source": [
        "You can convert a list into a tuple using the `tuple` function, and vice versa using the `list` function"
      ]
    },
    {
      "cell_type": "code",
      "execution_count": null,
      "metadata": {
        "id": "nGlc1ybRd2_s",
        "outputId": "85bc5db8-87ec-4bd7-a253-a853b9d67530"
      },
      "outputs": [
        {
          "data": {
            "text/plain": [
              "('one', 'two', 'three')"
            ]
          },
          "execution_count": 210,
          "metadata": {},
          "output_type": "execute_result"
        }
      ],
      "source": [
        "tuple(['one', 'two', 'three'])"
      ]
    },
    {
      "cell_type": "code",
      "execution_count": null,
      "metadata": {
        "id": "KMruW0nLd2_t",
        "outputId": "73967a09-de8c-46fa-dca5-387fbfea5fdd"
      },
      "outputs": [
        {
          "data": {
            "text/plain": [
              "['Athos', 'Porthos', 'Aramis']"
            ]
          },
          "execution_count": 211,
          "metadata": {},
          "output_type": "execute_result"
        }
      ],
      "source": [
        "list(('Athos', 'Porthos', 'Aramis'))"
      ]
    },
    {
      "cell_type": "markdown",
      "metadata": {
        "id": "_h3zAfJad2_w"
      },
      "source": [
        "Tuples have just two built-in methods: `count` and `index`. Can you figure out what they do? While you look could look for documentation and examples online, there's an easier way to check a method's documentation, using the `help` function."
      ]
    },
    {
      "cell_type": "code",
      "execution_count": null,
      "metadata": {
        "id": "_FZfNgZmd2_x"
      },
      "outputs": [],
      "source": [
        "a_tuple = 23, \"hello\", False, None, 23, 37, \"hello\""
      ]
    },
    {
      "cell_type": "code",
      "execution_count": null,
      "metadata": {
        "id": "iV7cY5XMd2_y",
        "outputId": "9bdc79d7-17fb-4b83-9261-0a7f2f518cb3"
      },
      "outputs": [
        {
          "name": "stdout",
          "output_type": "stream",
          "text": [
            "Help on built-in function count:\n",
            "\n",
            "count(value, /) method of builtins.tuple instance\n",
            "    Return number of occurrences of value.\n",
            "\n"
          ]
        }
      ],
      "source": [
        "help(a_tuple.count)"
      ]
    },
    {
      "cell_type": "markdown",
      "metadata": {
        "id": "YUXLSp-Xd2_0"
      },
      "source": [
        "Within a Jupyter notebook, you can also start a code cell with `?` and type the name of a function or method. When you execute this cell, you will see the function/method's documentation in a pop-up window."
      ]
    },
    {
      "cell_type": "code",
      "execution_count": null,
      "metadata": {
        "id": "mzv2yhr1d2_1"
      },
      "outputs": [],
      "source": [
        "?a_tuple.index"
      ]
    },
    {
      "cell_type": "markdown",
      "metadata": {
        "id": "RBbVxPBCd2_2"
      },
      "source": [
        "Try using `count` and `index` with `a_tuple` in the code cells below."
      ]
    },
    {
      "cell_type": "code",
      "execution_count": null,
      "metadata": {
        "id": "4I9Sr9Qdd2_3"
      },
      "outputs": [],
      "source": []
    },
    {
      "cell_type": "code",
      "execution_count": null,
      "metadata": {
        "id": "W4PWY3rfd2_4"
      },
      "outputs": [],
      "source": []
    },
    {
      "cell_type": "markdown",
      "metadata": {
        "id": "6LTe6o_Pd2_5"
      },
      "source": [
        "### Dictionary\n",
        "\n",
        "A dictionary is an unordered collection of items. Each item stored in a dictionary has a key and value. You can use a key to retrieve the corresponding value from the dictionary.  Dictionaries have the type `dict`.\n",
        "\n",
        "Dictionaries are often used to store many pieces of information e.g. details about a person, in a single variable. Dictionaries are created by enclosing key-value pairs within braces or curly brackets `{` and `}`."
      ]
    },
    {
      "cell_type": "code",
      "execution_count": null,
      "metadata": {
        "id": "sBgHLolsd2_6"
      },
      "outputs": [],
      "source": [
        "person1 = {\n",
        "    'name': 'John Doe',\n",
        "    'sex': 'Male',\n",
        "    'age': 32,\n",
        "    'married': True\n",
        "}"
      ]
    },
    {
      "cell_type": "code",
      "execution_count": null,
      "metadata": {
        "id": "rZ9-xpOwd2_7",
        "outputId": "cc2c72e4-1fd2-4c44-de98-ddc6cb36f8ee"
      },
      "outputs": [
        {
          "data": {
            "text/plain": [
              "{'name': 'John Doe', 'sex': 'Male', 'age': 32, 'married': True}"
            ]
          },
          "execution_count": 216,
          "metadata": {},
          "output_type": "execute_result"
        }
      ],
      "source": [
        "person1"
      ]
    },
    {
      "cell_type": "markdown",
      "metadata": {
        "id": "5lfkKyDGd2_9"
      },
      "source": [
        "Dictionaries can also be created using the `dict` function."
      ]
    },
    {
      "cell_type": "code",
      "execution_count": null,
      "metadata": {
        "id": "tj5KPoDbd2_-"
      },
      "outputs": [],
      "source": [
        "person2 = dict(name='Jane Judy', sex='Female', age=28, married=False)"
      ]
    },
    {
      "cell_type": "code",
      "execution_count": null,
      "metadata": {
        "id": "YWJ4PnfXd2__",
        "outputId": "2523d106-04a9-4565-dcaf-51c10b3c1500"
      },
      "outputs": [
        {
          "data": {
            "text/plain": [
              "{'name': 'Jane Judy', 'sex': 'Female', 'age': 28, 'married': False}"
            ]
          },
          "execution_count": 218,
          "metadata": {},
          "output_type": "execute_result"
        }
      ],
      "source": [
        "person2"
      ]
    },
    {
      "cell_type": "code",
      "execution_count": null,
      "metadata": {
        "id": "FhWjYJXyd3AA",
        "outputId": "5fe09d02-909f-4f51-fba7-4e6091563f92"
      },
      "outputs": [
        {
          "data": {
            "text/plain": [
              "dict"
            ]
          },
          "execution_count": 219,
          "metadata": {},
          "output_type": "execute_result"
        }
      ],
      "source": [
        "type(person1)"
      ]
    },
    {
      "cell_type": "markdown",
      "metadata": {
        "id": "gOLeW5q4d3AC"
      },
      "source": [
        "Keys can be used to access values using square brackets `[` and `]`."
      ]
    },
    {
      "cell_type": "code",
      "execution_count": null,
      "metadata": {
        "id": "GOA8kAmcd3AD",
        "outputId": "efd6a4f6-e937-44e7-ccaf-cd4ec6162c1a"
      },
      "outputs": [
        {
          "data": {
            "text/plain": [
              "'John Doe'"
            ]
          },
          "execution_count": 220,
          "metadata": {},
          "output_type": "execute_result"
        }
      ],
      "source": [
        "person1['name']"
      ]
    },
    {
      "cell_type": "code",
      "execution_count": null,
      "metadata": {
        "id": "wYc-NV0Nd3AF",
        "outputId": "6648bf39-2b28-4706-bedb-a1589ff99446"
      },
      "outputs": [
        {
          "data": {
            "text/plain": [
              "True"
            ]
          },
          "execution_count": 221,
          "metadata": {},
          "output_type": "execute_result"
        }
      ],
      "source": [
        "person1['married']"
      ]
    },
    {
      "cell_type": "code",
      "execution_count": null,
      "metadata": {
        "id": "q0UYlTLbd3AG",
        "outputId": "92e78544-684d-4fb4-a6a9-c0cd05f72d2d"
      },
      "outputs": [
        {
          "data": {
            "text/plain": [
              "'Jane Judy'"
            ]
          },
          "execution_count": 222,
          "metadata": {},
          "output_type": "execute_result"
        }
      ],
      "source": [
        "person2['name']"
      ]
    },
    {
      "cell_type": "markdown",
      "metadata": {
        "id": "eC5fdnlwd3AH"
      },
      "source": [
        "If a key isn't present in the dictionary, then a `KeyError` is *thrown*."
      ]
    },
    {
      "cell_type": "code",
      "execution_count": null,
      "metadata": {
        "id": "fZriV5pAd3AI",
        "outputId": "9903310e-0fdb-4d89-dee6-d2c2a5fb6274"
      },
      "outputs": [
        {
          "ename": "KeyError",
          "evalue": "'address'",
          "output_type": "error",
          "traceback": [
            "\u001b[0;31m---------------------------------------------------------------------------\u001b[0m",
            "\u001b[0;31mKeyError\u001b[0m                                  Traceback (most recent call last)",
            "\u001b[0;32m<ipython-input-223-f2b8bd2476d4>\u001b[0m in \u001b[0;36m<module>\u001b[0;34m\u001b[0m\n\u001b[0;32m----> 1\u001b[0;31m \u001b[0mperson1\u001b[0m\u001b[0;34m[\u001b[0m\u001b[0;34m'address'\u001b[0m\u001b[0;34m]\u001b[0m\u001b[0;34m\u001b[0m\u001b[0;34m\u001b[0m\u001b[0m\n\u001b[0m",
            "\u001b[0;31mKeyError\u001b[0m: 'address'"
          ]
        }
      ],
      "source": [
        "person1['address']"
      ]
    },
    {
      "cell_type": "markdown",
      "metadata": {
        "id": "xvUoGMpVd3AK"
      },
      "source": [
        "You can also use the `get` method to access the value associated with a key."
      ]
    },
    {
      "cell_type": "code",
      "execution_count": null,
      "metadata": {
        "id": "1GnQmeCjd3AL",
        "outputId": "dd8496b4-a53c-4fd2-ae58-0b29abc07e2a"
      },
      "outputs": [
        {
          "data": {
            "text/plain": [
              "'Jane Judy'"
            ]
          },
          "execution_count": 224,
          "metadata": {},
          "output_type": "execute_result"
        }
      ],
      "source": [
        "person2.get(\"name\")"
      ]
    },
    {
      "cell_type": "markdown",
      "metadata": {
        "id": "3DkA2mOHd3AM"
      },
      "source": [
        "The `get` method also accepts a default value, returned if the key is not present in the dictionary."
      ]
    },
    {
      "cell_type": "code",
      "execution_count": null,
      "metadata": {
        "id": "syO4wrtEd3AN",
        "outputId": "c2626867-730f-4e01-d4a8-5539c20486b5"
      },
      "outputs": [
        {
          "data": {
            "text/plain": [
              "'Unknown'"
            ]
          },
          "execution_count": 225,
          "metadata": {},
          "output_type": "execute_result"
        }
      ],
      "source": [
        "person2.get(\"address\", \"Unknown\")"
      ]
    },
    {
      "cell_type": "markdown",
      "metadata": {
        "id": "JFYbXLNMd3AP"
      },
      "source": [
        "You can check whether a key is present in a dictionary using the `in` operator."
      ]
    },
    {
      "cell_type": "code",
      "execution_count": null,
      "metadata": {
        "id": "2M5QyO8Cd3AR",
        "outputId": "d55b6e63-3ad4-4a57-a916-83e83abcab2f"
      },
      "outputs": [
        {
          "data": {
            "text/plain": [
              "True"
            ]
          },
          "execution_count": 226,
          "metadata": {},
          "output_type": "execute_result"
        }
      ],
      "source": [
        "'name' in person1"
      ]
    },
    {
      "cell_type": "code",
      "execution_count": null,
      "metadata": {
        "id": "0pYn0vxed3AS",
        "outputId": "dfc6e178-81d5-4ac3-f49f-7118105bead9"
      },
      "outputs": [
        {
          "data": {
            "text/plain": [
              "False"
            ]
          },
          "execution_count": 227,
          "metadata": {},
          "output_type": "execute_result"
        }
      ],
      "source": [
        "'address' in person1"
      ]
    },
    {
      "cell_type": "markdown",
      "metadata": {
        "id": "S99PxujSd3AU"
      },
      "source": [
        "You can change the value associated with a key using the assignment operator."
      ]
    },
    {
      "cell_type": "code",
      "execution_count": null,
      "metadata": {
        "id": "1VjyLXG-d3AW",
        "outputId": "00c31911-e6f1-464d-84b0-6b87c3657fae"
      },
      "outputs": [
        {
          "data": {
            "text/plain": [
              "False"
            ]
          },
          "execution_count": 228,
          "metadata": {},
          "output_type": "execute_result"
        }
      ],
      "source": [
        "person2['married']"
      ]
    },
    {
      "cell_type": "code",
      "execution_count": null,
      "metadata": {
        "id": "KTrIiYtkd3AX"
      },
      "outputs": [],
      "source": [
        "person2['married'] = True"
      ]
    },
    {
      "cell_type": "code",
      "execution_count": null,
      "metadata": {
        "id": "QpJ_B85Ed3AY",
        "outputId": "313e07e3-f179-4eb1-f5dc-9b2182222d79"
      },
      "outputs": [
        {
          "data": {
            "text/plain": [
              "True"
            ]
          },
          "execution_count": 230,
          "metadata": {},
          "output_type": "execute_result"
        }
      ],
      "source": [
        "person2['married']"
      ]
    },
    {
      "cell_type": "markdown",
      "metadata": {
        "id": "wNdPi70ed3Aa"
      },
      "source": [
        "The assignment operator can also be used to add new key-value pairs to the dictionary."
      ]
    },
    {
      "cell_type": "code",
      "execution_count": null,
      "metadata": {
        "id": "ZSlxI7XWd3Ab",
        "outputId": "31feb03c-cf0c-477c-8f6a-37b4f8ecb563"
      },
      "outputs": [
        {
          "data": {
            "text/plain": [
              "{'name': 'John Doe', 'sex': 'Male', 'age': 32, 'married': True}"
            ]
          },
          "execution_count": 231,
          "metadata": {},
          "output_type": "execute_result"
        }
      ],
      "source": [
        "person1"
      ]
    },
    {
      "cell_type": "code",
      "execution_count": null,
      "metadata": {
        "id": "maXZfIEGd3Ac"
      },
      "outputs": [],
      "source": [
        "person1['address'] = '1, Penny Lane'"
      ]
    },
    {
      "cell_type": "code",
      "execution_count": null,
      "metadata": {
        "id": "UGngKVBvd3Ae",
        "outputId": "9a87e090-dac3-4528-8d8b-1ca3e8663857"
      },
      "outputs": [
        {
          "data": {
            "text/plain": [
              "{'name': 'John Doe',\n",
              " 'sex': 'Male',\n",
              " 'age': 32,\n",
              " 'married': True,\n",
              " 'address': '1, Penny Lane'}"
            ]
          },
          "execution_count": 233,
          "metadata": {},
          "output_type": "execute_result"
        }
      ],
      "source": [
        "person1"
      ]
    },
    {
      "cell_type": "markdown",
      "metadata": {
        "id": "tblUfOAad3Af"
      },
      "source": [
        "To remove a key and the associated value from a dictionary, use the `pop` method."
      ]
    },
    {
      "cell_type": "code",
      "execution_count": null,
      "metadata": {
        "id": "VLeU8Af1d3Ag",
        "outputId": "50ce2ce9-a188-4dde-be46-cf87d3e45f97"
      },
      "outputs": [
        {
          "data": {
            "text/plain": [
              "'1, Penny Lane'"
            ]
          },
          "execution_count": 234,
          "metadata": {},
          "output_type": "execute_result"
        }
      ],
      "source": [
        "person1.pop('address')"
      ]
    },
    {
      "cell_type": "code",
      "execution_count": null,
      "metadata": {
        "id": "_r72Y0lwd3Ah",
        "outputId": "a0ab4df7-70f8-4edc-ac1a-42588089f349"
      },
      "outputs": [
        {
          "data": {
            "text/plain": [
              "{'name': 'John Doe', 'sex': 'Male', 'age': 32, 'married': True}"
            ]
          },
          "execution_count": 235,
          "metadata": {},
          "output_type": "execute_result"
        }
      ],
      "source": [
        "person1"
      ]
    },
    {
      "cell_type": "markdown",
      "metadata": {
        "id": "2q4-FEn3d3Aj"
      },
      "source": [
        "Dictionaries also provide methods to view the list of keys, values, or key-value pairs inside it."
      ]
    },
    {
      "cell_type": "code",
      "execution_count": null,
      "metadata": {
        "id": "6ONE2aC6d3Ak",
        "outputId": "432c5d2d-91c9-40af-9677-bf8a644bfe56"
      },
      "outputs": [
        {
          "data": {
            "text/plain": [
              "dict_keys(['name', 'sex', 'age', 'married'])"
            ]
          },
          "execution_count": 236,
          "metadata": {},
          "output_type": "execute_result"
        }
      ],
      "source": [
        "person1.keys()"
      ]
    },
    {
      "cell_type": "code",
      "execution_count": null,
      "metadata": {
        "id": "JSr99E3Ud3Am",
        "outputId": "d73669c3-74f3-4938-e36f-7261926a9c7e"
      },
      "outputs": [
        {
          "data": {
            "text/plain": [
              "dict_values(['John Doe', 'Male', 32, True])"
            ]
          },
          "execution_count": 237,
          "metadata": {},
          "output_type": "execute_result"
        }
      ],
      "source": [
        "person1.values()"
      ]
    },
    {
      "cell_type": "code",
      "execution_count": null,
      "metadata": {
        "id": "YbLCRdaQd3Ao",
        "outputId": "9bf20116-6937-49b4-b6e1-c0b96e7bf9e9"
      },
      "outputs": [
        {
          "data": {
            "text/plain": [
              "dict_items([('name', 'John Doe'), ('sex', 'Male'), ('age', 32), ('married', True)])"
            ]
          },
          "execution_count": 238,
          "metadata": {},
          "output_type": "execute_result"
        }
      ],
      "source": [
        "person1.items()"
      ]
    },
    {
      "cell_type": "code",
      "execution_count": null,
      "metadata": {
        "id": "-E4Lgcjbd3Ap",
        "outputId": "4ed57db2-efcd-4079-cbd8-988528a952ed"
      },
      "outputs": [
        {
          "ename": "TypeError",
          "evalue": "'dict_items' object is not subscriptable",
          "output_type": "error",
          "traceback": [
            "\u001b[0;31m---------------------------------------------------------------------------\u001b[0m",
            "\u001b[0;31mTypeError\u001b[0m                                 Traceback (most recent call last)",
            "\u001b[0;32m<ipython-input-239-b9fb361f2a9e>\u001b[0m in \u001b[0;36m<module>\u001b[0;34m\u001b[0m\n\u001b[0;32m----> 1\u001b[0;31m \u001b[0mperson1\u001b[0m\u001b[0;34m.\u001b[0m\u001b[0mitems\u001b[0m\u001b[0;34m(\u001b[0m\u001b[0;34m)\u001b[0m\u001b[0;34m[\u001b[0m\u001b[0;36m1\u001b[0m\u001b[0;34m]\u001b[0m\u001b[0;34m\u001b[0m\u001b[0;34m\u001b[0m\u001b[0m\n\u001b[0m",
            "\u001b[0;31mTypeError\u001b[0m: 'dict_items' object is not subscriptable"
          ]
        }
      ],
      "source": [
        "person1.items()[1]"
      ]
    },
    {
      "cell_type": "markdown",
      "metadata": {
        "id": "jcOMzp_4d3Ar"
      },
      "source": [
        "The results of `keys`, `values`, and `items` look like lists. However, they don't support the indexing operator `[]` for retrieving elements. \n",
        "\n",
        "Can you figure out how to access an element at a specific index from these results? Try it below. *Hint: Use the `list` function*"
      ]
    },
    {
      "cell_type": "code",
      "execution_count": null,
      "metadata": {
        "id": "zgUkWGm2d3As"
      },
      "outputs": [],
      "source": []
    },
    {
      "cell_type": "code",
      "execution_count": null,
      "metadata": {
        "id": "1JV0z0Xmd3At"
      },
      "outputs": [],
      "source": []
    },
    {
      "cell_type": "markdown",
      "metadata": {
        "id": "ewiH3RVId3Au"
      },
      "source": [
        "Dictionaries provide many other methods. You can learn more about them here: https://www.w3schools.com/python/python_ref_dictionary.asp .\n",
        "\n",
        "Here are some experiments you can try out with dictionaries (use the empty cells below):\n",
        "* What happens if you use the same key multiple times while creating a dictionary?\n",
        "* How can you create a copy of a dictionary (modifying the copy should not change the original)?\n",
        "* Can the value associated with a key itself be a dictionary?\n",
        "* How can you add the key-value pairs from one dictionary into another dictionary? Hint: See the `update` method.\n",
        "* Can the dictionary's keys be something other than a string, e.g., a number, boolean, list, etc.?"
      ]
    },
    {
      "cell_type": "code",
      "execution_count": null,
      "metadata": {
        "id": "45Pg4nUVd3Av"
      },
      "outputs": [],
      "source": []
    },
    {
      "cell_type": "code",
      "execution_count": null,
      "metadata": {
        "id": "jpurGhvbd3Aw"
      },
      "outputs": [],
      "source": []
    },
    {
      "cell_type": "code",
      "execution_count": null,
      "metadata": {
        "id": "16bwwuT3d3Ax"
      },
      "outputs": [],
      "source": []
    },
    {
      "cell_type": "code",
      "execution_count": null,
      "metadata": {
        "id": "salzpj-fd3Ax"
      },
      "outputs": [],
      "source": []
    },
    {
      "cell_type": "code",
      "execution_count": null,
      "metadata": {
        "id": "A8XgygUkd3Ay"
      },
      "outputs": [],
      "source": []
    },
    {
      "cell_type": "markdown",
      "metadata": {
        "id": "pnjFo5imd3Az"
      },
      "source": [
        "## Further Reading\n",
        "\n",
        "We've now completed our exploration of variables and common data types in Python. Following are some resources to learn more about data types in Python:\n",
        "\n",
        "* Python official documentation: https://docs.python.org/3/tutorial/index.html\n",
        "* Python Tutorial at W3Schools: https://www.w3schools.com/python/\n",
        "* Practical Python Programming: https://dabeaz-course.github.io/practical-python/Notes/Contents.html\n",
        "\n",
        "You are now ready to move on to the next tutorial: [Branching using conditional statements and loops in Python](https://jovian.ml/aakashns/python-branching-and-loops)"
      ]
    },
    {
      "cell_type": "markdown",
      "metadata": {
        "id": "D8BKhAtpd3A0"
      },
      "source": [
        "Let's save a snapshot of our notebook one final time using `jovian.commit`."
      ]
    },
    {
      "cell_type": "code",
      "execution_count": null,
      "metadata": {
        "id": "UgjbJxpUd3A1",
        "outputId": "414a93a4-9c88-48c1-f738-504a39de24ea"
      },
      "outputs": [
        {
          "data": {
            "application/javascript": [
              "window.require && require([\"base/js/namespace\"],function(Jupyter){Jupyter.notebook.save_checkpoint()})"
            ],
            "text/plain": [
              "<IPython.core.display.Javascript object>"
            ]
          },
          "metadata": {},
          "output_type": "display_data"
        },
        {
          "name": "stdout",
          "output_type": "stream",
          "text": [
            "[jovian] Attempting to save notebook..\u001b[0m\n",
            "[jovian] Updating notebook \"samanvitha/python-variables-and-data-types\" on https://jovian.ai\u001b[0m\n",
            "[jovian] Uploading notebook..\u001b[0m\n",
            "[jovian] Uploading additional files...\u001b[0m\n",
            "[jovian] Committed successfully! https://jovian.ai/samanvitha/python-variables-and-data-types\u001b[0m\n"
          ]
        },
        {
          "data": {
            "text/plain": [
              "'https://jovian.ai/samanvitha/python-variables-and-data-types'"
            ]
          },
          "execution_count": 240,
          "metadata": {},
          "output_type": "execute_result"
        }
      ],
      "source": [
        "jovian.commit()"
      ]
    },
    {
      "cell_type": "markdown",
      "metadata": {
        "id": "aao9DX2Gd3A3"
      },
      "source": [
        "## Questions for Revision\n",
        "\n",
        "Try answering the following questions to test your understanding of the topics covered in this notebook:\n",
        "\n",
        "1. What is a variable in Python?\n",
        "2. How do you create a variable?\n",
        "3. How do you check the value within a variable?\n",
        "4. How do you create multiple variables in a single statement?\n",
        "5. How do you create multiple variables with the same value?\n",
        "6. How do you change the value of a variable?\n",
        "7. How do you reassign a variable by modifying the previous value?\n",
        "8. What does the statement `counter += 4` do?\n",
        "9. What are the rules for naming a variable?\n",
        "10. Are variable names case-sensitive? Do `a_variable`, `A_Variable`, and `A_VARIABLE` represent the same variable or different ones?\n",
        "11. What is Syntax? Why is it important?\n",
        "12. What happens if you execute a statement with invalid syntax?\n",
        "13. How do you check the data type of a variable?\n",
        "14. What are the built-in data types in Python?\n",
        "15. What is a primitive data type? \n",
        "16. What are the primitive data types available in Python?\n",
        "17. What is a data structure or container data type?\n",
        "18. What are the container types available in Python?\n",
        "19. What kind of data does the Integer data type represent?\n",
        "20. What are the numerical limits of the integer data type?\n",
        "21. What kind of data does the float data type represent?\n",
        "22. How does Python decide if a given number is a float or an integer?\n",
        "23. How can you create a variable which stores a whole number, e.g., 4 but has the float data type?\n",
        "24. How do you create floats representing very large (e.g., 6.023 x 10^23) or very small numbers (0.000000123)?\n",
        "25. What does the expression `23e-12` represent?\n",
        "26. Can floats be used to store numbers with unlimited precision?\n",
        "27. What are the differences between integers and floats?\n",
        "28. How do you convert an integer to a float?\n",
        "29. How do you convert a float to an integer?\n",
        "30. What is the result obtained when you convert 1.99 to an integer?\n",
        "31. What are the data types of the results of the division operators `/` and `//`?\n",
        "32. What kind of data does the Boolean data type represent?\n",
        "33. Which types of Python operators return booleans as a result?\n",
        "34. What happens if you try to use a boolean in arithmetic operation?\n",
        "35. How can any value in Python be covered to a boolean?\n",
        "36. What are truthy and falsy values?\n",
        "37. What are the values in Python that evaluate to False?\n",
        "38. Give some examples of values that evaluate to True.\n",
        "39. What kind of data does the None data type represent?\n",
        "40. What is the purpose of None?\n",
        "41. What kind of data does the String data type represent?\n",
        "42. What are the different ways of creating strings in Python?\n",
        "43. What is the difference between strings creating using single quotes, i.e. `'` and `'` vs. those created using double quotes, i.e. `\"` and `\"`?\n",
        "44. How do you create multi-line strings in Python?\n",
        "45. What is the newline character, `\\n`?\n",
        "46. What are escaped characters? How are they useful?\n",
        "47. How do you check the length of a string?\n",
        "48. How do you convert a string into a list of characters?\n",
        "49. How do you access a specific character from a string?\n",
        "50. How do you access a range of characters from a string?\n",
        "51. How do you check if a specific character occurs in a string?\n",
        "52. How do you check if a smaller string occurs within a bigger string?\n",
        "53. How do you join two or more strings?\n",
        "54. What are \"methods\" in Python? How are they different from functions?\n",
        "55. What do the `.lower`, `.upper` and `.capitalize` methods on strings do?\n",
        "56. How do you replace a specific part of a string with something else?\n",
        "57. How do you split the string \"Sun,Mon,Tue,Wed,Thu,Fri,Sat\" into a list of days?\n",
        "58. How do you remove whitespace from the beginning and end of a string?\n",
        "59. What is the string `.format` method used for? Can you give an example?\n",
        "60. What are the benefits of using the `.format` method instead of string concatenation?\n",
        "61. How do you convert a value of another type to a string?\n",
        "62. How do you check if two strings have the same value?\n",
        "63. Where can you find the list of all the methods supported by strings?\n",
        "64. What is a list in Python?\n",
        "65. How do you create a list?\n",
        "66. Can a Python list contain values of different data types?\n",
        "67. Can a list contain another list as an element within it?\n",
        "68. Can you create a list without any values?\n",
        "69. How do you check the length of a list in Python?\n",
        "70. How do you retrieve a value from a list?\n",
        "71. What is the smallest and largest index you can use to access elements from a list containing five elements?\n",
        "72. What happens if you try to access an index equal to or larger than the size of a list?\n",
        "73. What happens if you try to access a negative index within a list?\n",
        "74. How do you access a range of elements from a list?\n",
        "75. How many elements does the list returned by the expression `a_list[2:5]` contain?\n",
        "76. What do the ranges `a_list[:2]` and `a_list[2:]` represent?\n",
        "77. How do you change the item stored at a specific index within a list?\n",
        "78. How do you insert a new item at the beginning, middle, or end of a list?\n",
        "79. How do you remove an item from al list?\n",
        "80. How do you remove the item at a given index from a list?\n",
        "81. How do you check if a list contains a value?\n",
        "82. How do you combine two or most lists to create a larger list?\n",
        "83. How do you create a copy of a list?\n",
        "84. Does the expression `a_new_list = a_list` create a copy of the list `a_list`?\n",
        "85. Where can you find the list of all the methods supported by lists?\n",
        "86. What is a Tuple in Python?\n",
        "87. How is a tuple different from a list?\n",
        "88. Can you add or remove elements in a tuple?\n",
        "89. How do you create a tuple with just one element?\n",
        "90. How do you convert a tuple to a list and vice versa?\n",
        "91. What are the `count` and `index` method of a Tuple used for?\n",
        "92. What is a dictionary in Python?\n",
        "93. How do you create a dictionary?\n",
        "94. What are keys and values?\n",
        "95. How do you access the value associated with a specific key in a dictionary?\n",
        "96. What happens if you try to access the value for a key that doesn't exist in a dictionary?\n",
        "97. What is the `.get` method of a dictionary used for?\n",
        "98. How do you change the value associated with a key in a dictionary?\n",
        "99. How do you add or remove a key-value pair in a dictionary?\n",
        "100. How do you access the keys, values, and key-value pairs within a dictionary?\n"
      ]
    }
  ],
  "metadata": {
    "kernelspec": {
      "display_name": "Python 3",
      "language": "python",
      "name": "python3"
    },
    "language_info": {
      "codemirror_mode": {
        "name": "ipython",
        "version": 3
      },
      "file_extension": ".py",
      "mimetype": "text/x-python",
      "name": "python",
      "nbconvert_exporter": "python",
      "pygments_lexer": "ipython3",
      "version": "3.8.6"
    },
    "colab": {
      "provenance": [],
      "include_colab_link": true
    }
  },
  "nbformat": 4,
  "nbformat_minor": 0
}